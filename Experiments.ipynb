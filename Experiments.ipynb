{
 "cells": [
  {
   "cell_type": "code",
   "execution_count": 1,
   "metadata": {},
   "outputs": [
    {
     "name": "stdout",
     "output_type": "stream",
     "text": [
      "TF built with GPU support:  True\n",
      "Num GPUs Available:  0\n"
     ]
    }
   ],
   "source": [
    "#Define the class Experiment, which contains the train methods, parameters, data\n",
    "import sys\n",
    "sys.path.append(\"experiments/\")\n",
    "import tensorflow as tf\n",
    "import tensorflow.keras.backend as K\n",
    "\n",
    "print(\"TF built with GPU support: \", tf.test.is_built_with_cuda())\n",
    "print(\"Num GPUs Available: \", len(tf.config.list_physical_devices('GPU')))\n",
    "\n",
    "from tensorflow.keras.datasets import mnist, cifar10, cifar100\n",
    "from tensorflow.keras.callbacks import ModelCheckpoint, EarlyStopping\n",
    "from tensorflow.keras.optimizers import Adam\n",
    "from tensorflow.keras.models import load_model, Model\n",
    "from tensorflow.keras.layers import Input\n",
    "from tensorflow.keras.utils import Progbar\n",
    "\n",
    "from sklearn.metrics import roc_auc_score, accuracy_score, confusion_matrix\n",
    "from sklearn.model_selection import train_test_split\n",
    "from sklearn.utils import shuffle\n",
    "import matplotlib.pyplot as plt\n",
    "import pandas as pd\n",
    "import numpy as np\n",
    "import joblib\n",
    "import os\n",
    "from time import time\n",
    "from experiments.config import experiment_parameters\n",
    "from sklearn.decomposition import PCA\n",
    "from sklearn.manifold import TSNE\n",
    "import seaborn as sns\n",
    "from mpl_toolkits.mplot3d import Axes3D"
   ]
  },
  {
   "cell_type": "code",
   "execution_count": 2,
   "metadata": {},
   "outputs": [
    {
     "name": "stdout",
     "output_type": "stream",
     "text": [
      "TF built with GPU support:  True\n",
      "Num GPUs Available:  0\n"
     ]
    }
   ],
   "source": [
    "from experiments.Experiment import Experiment\n",
    "from model import BuildEncoder, BuildClassifier, GlobalSumPooling2D, BuildGenerator, BuildDiscriminator, BuildDiscriminatorCS\n",
    "from pyimagesearch.learningratefinder import LearningRateFinder\n",
    "from pyimagesearch.clr_callback import CyclicLR"
   ]
  },
  {
   "cell_type": "code",
   "execution_count": 3,
   "metadata": {},
   "outputs": [],
   "source": [
    "batch_size = 128\n",
    "MIN_LR = 1e-6\n",
    "MAX_LR = 1e-4\n",
    "CLR_METHOD = \"triangular2\""
   ]
  },
  {
   "cell_type": "code",
   "execution_count": 5,
   "metadata": {},
   "outputs": [
    {
     "name": "stdout",
     "output_type": "stream",
     "text": [
      "Classifier Data Loaded\n",
      "Shapes:\n",
      "x_train: (32046, 28, 28, 1)\n",
      "y_train: (32046, 6)\n",
      "x_val  : (3561, 28, 28, 1)\n",
      "y_val  : (3561, 6)\n",
      "x_test : (5877, 28, 28, 1)\n",
      "y_test : (5877, 6)\n",
      "['/home/neeraj/NPHard/OSR/cGAN-OSR', '/usr/lib/python38.zip', '/usr/lib/python3.8', '/usr/lib/python3.8/lib-dynload', '', '/home/neeraj/.local/lib/python3.8/site-packages', '/usr/local/lib/python3.8/dist-packages', '/usr/lib/python3/dist-packages', '/usr/local/lib/python3.8/dist-packages/IPython/extensions', '/home/neeraj/.ipython', 'experiments/', '..', '..', '..']\n",
      "classifier-save-01-5.666-0.000.hdf5\n"
     ]
    }
   ],
   "source": [
    "experiment = Experiment(experiment_parameters['1a'])\n",
    "experiment.load_classifier_data(summary=True)\n",
    "print(sys.path)\n",
    "experiment.load_stage1_models(summary=False, file='classifier-save-01-5.666-0.000.hdf5')\n",
    "#experiment.find_classifier_LR()"
   ]
  },
  {
   "cell_type": "code",
   "execution_count": 7,
   "metadata": {},
   "outputs": [],
   "source": [
    "nsamples = experiment.x_train.shape[0]\n",
    "STEP_SIZE = 2*np.ceil((nsamples/float(batch_size)))\n",
    "\n",
    "clr = CyclicLR(\n",
    "    mode=CLR_METHOD,\n",
    "    base_lr=MIN_LR,\n",
    "    max_lr=MAX_LR,\n",
    "    step_size=STEP_SIZE)"
   ]
  },
  {
   "cell_type": "code",
   "execution_count": null,
   "metadata": {},
   "outputs": [],
   "source": [
    "experiment.train_stage1(MIN_LR,batch_size,5,clr)\n",
    "experiment.test_stage1()\n",
    "experiment.visualize_classifier_embeddings()"
   ]
  },
  {
   "cell_type": "code",
   "execution_count": null,
   "metadata": {},
   "outputs": [],
   "source": [
    "experiment = Experiment(experiment_parameters['1a'])\n",
    "experiment.load_cGAN_data(percent=0.001, summary=True)\n",
    "experiment.load_cGAN_models(summary=False)\n",
    "experiment.train_cGAN(batch_size=8, epochs=1)"
   ]
  },
  {
   "cell_type": "code",
   "execution_count": null,
   "metadata": {},
   "outputs": [],
   "source": [
    "experiment = Experiment(experiment_parameters['1a'])\n",
    "experiment.load_cGAN_OSR_data(percent=0.001, summary=True)\n",
    "experiment.load_cGAN_OSR_models(classifier_file='classifier-save-01-5.666-0.000.hdf5', summary=False)\n",
    "experiment.train_stage_2(batch_size=8, epochs=1, debug=False)"
   ]
  }
 ],
 "metadata": {
  "kernelspec": {
   "display_name": "Python 3",
   "language": "python",
   "name": "python3"
  },
  "language_info": {
   "codemirror_mode": {
    "name": "ipython",
    "version": 3
   },
   "file_extension": ".py",
   "mimetype": "text/x-python",
   "name": "python",
   "nbconvert_exporter": "python",
   "pygments_lexer": "ipython3",
   "version": "3.8.2"
  }
 },
 "nbformat": 4,
 "nbformat_minor": 4
}
