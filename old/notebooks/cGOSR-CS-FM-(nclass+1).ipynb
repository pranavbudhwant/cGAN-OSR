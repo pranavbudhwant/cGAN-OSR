{
 "cells": [
  {
   "cell_type": "code",
   "execution_count": null,
   "metadata": {},
   "outputs": [],
   "source": [
    "'''\n",
    "Discriminator:\n",
    "    Fake vs N Classes (NClasses+1)\n",
    "'''"
   ]
  },
  {
   "cell_type": "code",
   "execution_count": 0,
   "metadata": {
    "colab": {
     "base_uri": "https://localhost:8080/",
     "height": 142
    },
    "colab_type": "code",
    "executionInfo": {
     "elapsed": 26247,
     "status": "ok",
     "timestamp": 1589204337603,
     "user": {
      "displayName": "pranav budhwant",
      "photoUrl": "",
      "userId": "02290406553066095453"
     },
     "user_tz": -330
    },
    "id": "grxAHA9QPLWT",
    "outputId": "464b1836-d37f-4183-adcb-a41607b26fe9"
   },
   "outputs": [
    {
     "name": "stdout",
     "output_type": "stream",
     "text": [
      "Go to this URL in a browser: https://accounts.google.com/o/oauth2/auth?client_id=947318989803-6bn6qk8qdgf4n4g3pfee6491hc0brc4i.apps.googleusercontent.com&redirect_uri=urn%3aietf%3awg%3aoauth%3a2.0%3aoob&response_type=code&scope=email%20https%3a%2f%2fwww.googleapis.com%2fauth%2fdocs.test%20https%3a%2f%2fwww.googleapis.com%2fauth%2fdrive%20https%3a%2f%2fwww.googleapis.com%2fauth%2fdrive.photos.readonly%20https%3a%2f%2fwww.googleapis.com%2fauth%2fpeopleapi.readonly\n",
      "\n",
      "Enter your authorization code:\n",
      "··········\n",
      "Mounted at /content/drive\n",
      "/content\n"
     ]
    }
   ],
   "source": [
    "from google.colab import drive\n",
    "drive.mount('/content/drive', force_remount=True)\n",
    "\n",
    "!pwd"
   ]
  },
  {
   "cell_type": "code",
   "execution_count": 0,
   "metadata": {
    "colab": {
     "base_uri": "https://localhost:8080/",
     "height": 105
    },
    "colab_type": "code",
    "executionInfo": {
     "elapsed": 5872,
     "status": "ok",
     "timestamp": 1589204344395,
     "user": {
      "displayName": "pranav budhwant",
      "photoUrl": "",
      "userId": "02290406553066095453"
     },
     "user_tz": -330
    },
    "id": "ogGHeILmPMyX",
    "outputId": "1c65670a-5ec4-4191-f4e2-ee55d993d444"
   },
   "outputs": [
    {
     "name": "stdout",
     "output_type": "stream",
     "text": [
      "CBN.py\t\t\t\t    img\t\t pyimagesearch\n",
      "CIFAR10-ResNet-CrammerSinger.ipynb  losses\t ResNet-CrammerSinger-FM.ipynb\n",
      "CIFAR10-ResNet.ipynb\t\t    model.py\t SpectralNormalizationKeras.py\n",
      "data_utils.py\t\t\t    models\t train_Classifier.ipynb\n",
      "GC2AE-CrammerSinger-FM.ipynb\t    __pycache__\n"
     ]
    }
   ],
   "source": [
    "import os\n",
    "os.chdir('/content/drive/My Drive/gc2ae/SN_keras/')\n",
    "!ls"
   ]
  },
  {
   "cell_type": "code",
   "execution_count": 0,
   "metadata": {
    "colab": {
     "base_uri": "https://localhost:8080/",
     "height": 281
    },
    "colab_type": "code",
    "executionInfo": {
     "elapsed": 18446,
     "status": "ok",
     "timestamp": 1589204357272,
     "user": {
      "displayName": "pranav budhwant",
      "photoUrl": "",
      "userId": "02290406553066095453"
     },
     "user_tz": -330
    },
    "id": "-5RciZ05PRvg",
    "outputId": "b4bc43bc-f32e-4fce-fc77-4ab0f99db76e"
   },
   "outputs": [
    {
     "name": "stdout",
     "output_type": "stream",
     "text": [
      "Collecting keras==2.1.5\n",
      "\u001b[?25l  Downloading https://files.pythonhosted.org/packages/ba/65/e4aff762b8696ec0626a6654b1e73b396fcc8b7cc6b98d78a1bc53b85b48/Keras-2.1.5-py2.py3-none-any.whl (334kB)\n",
      "\r",
      "\u001b[K     |█                               | 10kB 13.7MB/s eta 0:00:01\r",
      "\u001b[K     |██                              | 20kB 4.2MB/s eta 0:00:01\r",
      "\u001b[K     |███                             | 30kB 5.7MB/s eta 0:00:01\r",
      "\u001b[K     |████                            | 40kB 7.2MB/s eta 0:00:01\r",
      "\u001b[K     |█████                           | 51kB 4.9MB/s eta 0:00:01\r",
      "\u001b[K     |█████▉                          | 61kB 5.7MB/s eta 0:00:01\r",
      "\u001b[K     |██████▉                         | 71kB 6.5MB/s eta 0:00:01\r",
      "\u001b[K     |███████▉                        | 81kB 7.1MB/s eta 0:00:01\r",
      "\u001b[K     |████████▉                       | 92kB 5.6MB/s eta 0:00:01\r",
      "\u001b[K     |█████████▉                      | 102kB 6.2MB/s eta 0:00:01\r",
      "\u001b[K     |██████████▊                     | 112kB 6.2MB/s eta 0:00:01\r",
      "\u001b[K     |███████████▊                    | 122kB 6.2MB/s eta 0:00:01\r",
      "\u001b[K     |████████████▊                   | 133kB 6.2MB/s eta 0:00:01\r",
      "\u001b[K     |█████████████▊                  | 143kB 6.2MB/s eta 0:00:01\r",
      "\u001b[K     |██████████████▊                 | 153kB 6.2MB/s eta 0:00:01\r",
      "\u001b[K     |███████████████▋                | 163kB 6.2MB/s eta 0:00:01\r",
      "\u001b[K     |████████████████▋               | 174kB 6.2MB/s eta 0:00:01\r",
      "\u001b[K     |█████████████████▋              | 184kB 6.2MB/s eta 0:00:01\r",
      "\u001b[K     |██████████████████▋             | 194kB 6.2MB/s eta 0:00:01\r",
      "\u001b[K     |███████████████████▋            | 204kB 6.2MB/s eta 0:00:01\r",
      "\u001b[K     |████████████████████▌           | 215kB 6.2MB/s eta 0:00:01\r",
      "\u001b[K     |█████████████████████▌          | 225kB 6.2MB/s eta 0:00:01\r",
      "\u001b[K     |██████████████████████▌         | 235kB 6.2MB/s eta 0:00:01\r",
      "\u001b[K     |███████████████████████▌        | 245kB 6.2MB/s eta 0:00:01\r",
      "\u001b[K     |████████████████████████▌       | 256kB 6.2MB/s eta 0:00:01\r",
      "\u001b[K     |█████████████████████████▍      | 266kB 6.2MB/s eta 0:00:01\r",
      "\u001b[K     |██████████████████████████▍     | 276kB 6.2MB/s eta 0:00:01\r",
      "\u001b[K     |███████████████████████████▍    | 286kB 6.2MB/s eta 0:00:01\r",
      "\u001b[K     |████████████████████████████▍   | 296kB 6.2MB/s eta 0:00:01\r",
      "\u001b[K     |█████████████████████████████▍  | 307kB 6.2MB/s eta 0:00:01\r",
      "\u001b[K     |██████████████████████████████▎ | 317kB 6.2MB/s eta 0:00:01\r",
      "\u001b[K     |███████████████████████████████▎| 327kB 6.2MB/s eta 0:00:01\r",
      "\u001b[K     |████████████████████████████████| 337kB 6.2MB/s \n",
      "\u001b[?25hRequirement already satisfied: numpy>=1.9.1 in /usr/local/lib/python3.6/dist-packages (from keras==2.1.5) (1.18.4)\n",
      "Requirement already satisfied: pyyaml in /usr/local/lib/python3.6/dist-packages (from keras==2.1.5) (3.13)\n",
      "Requirement already satisfied: six>=1.9.0 in /usr/local/lib/python3.6/dist-packages (from keras==2.1.5) (1.12.0)\n",
      "Requirement already satisfied: scipy>=0.14 in /usr/local/lib/python3.6/dist-packages (from keras==2.1.5) (1.4.1)\n",
      "Installing collected packages: keras\n",
      "  Found existing installation: Keras 2.3.1\n",
      "    Uninstalling Keras-2.3.1:\n",
      "      Successfully uninstalled Keras-2.3.1\n",
      "Successfully installed keras-2.1.5\n",
      "TensorFlow 1.x selected.\n"
     ]
    },
    {
     "name": "stderr",
     "output_type": "stream",
     "text": [
      "Using TensorFlow backend.\n"
     ]
    },
    {
     "data": {
      "text/plain": [
       "'2.1.5'"
      ]
     },
     "execution_count": 3,
     "metadata": {
      "tags": []
     },
     "output_type": "execute_result"
    }
   ],
   "source": [
    "!pip install keras==2.1.5\n",
    "%tensorflow_version 1.x\n",
    "import keras\n",
    "keras.__version__"
   ]
  },
  {
   "cell_type": "code",
   "execution_count": 0,
   "metadata": {
    "colab": {
     "base_uri": "https://localhost:8080/",
     "height": 178
    },
    "colab_type": "code",
    "executionInfo": {
     "elapsed": 21608,
     "status": "ok",
     "timestamp": 1589204360973,
     "user": {
      "displayName": "pranav budhwant",
      "photoUrl": "",
      "userId": "02290406553066095453"
     },
     "user_tz": -330
    },
    "id": "Yi_2PCFCPIWA",
    "outputId": "4cec372e-3083-4e92-ff80-f04d6f70f440"
   },
   "outputs": [
    {
     "name": "stdout",
     "output_type": "stream",
     "text": [
      "WARNING:tensorflow:From /usr/local/lib/python3.6/dist-packages/keras/backend/tensorflow_backend.py:167: The name tf.get_default_session is deprecated. Please use tf.compat.v1.get_default_session instead.\n",
      "\n",
      "WARNING:tensorflow:From /usr/local/lib/python3.6/dist-packages/keras/backend/tensorflow_backend.py:174: The name tf.ConfigProto is deprecated. Please use tf.compat.v1.ConfigProto instead.\n",
      "\n",
      "WARNING:tensorflow:From /usr/local/lib/python3.6/dist-packages/keras/backend/tensorflow_backend.py:179: The name tf.Session is deprecated. Please use tf.compat.v1.Session instead.\n",
      "\n",
      "WARNING:tensorflow:From /usr/local/lib/python3.6/dist-packages/keras/backend/tensorflow_backend.py:183: The name tf.global_variables is deprecated. Please use tf.compat.v1.global_variables instead.\n",
      "\n"
     ]
    }
   ],
   "source": [
    "%matplotlib inline\n",
    "import keras.backend as K\n",
    "K.tensorflow_backend._get_available_gpus()\n",
    "\n",
    "import numpy as np\n",
    "import matplotlib.pyplot as plt\n",
    "from time import time\n",
    "\n",
    "from keras.models import Model, Sequential, load_model\n",
    "from keras.optimizers import Adam\n",
    "import keras.backend as K\n",
    "from keras.utils.generic_utils import Progbar\n",
    "\n",
    "from sklearn.utils import shuffle\n",
    "import joblib\n",
    "\n",
    "from model import *"
   ]
  },
  {
   "cell_type": "code",
   "execution_count": 0,
   "metadata": {
    "colab": {},
    "colab_type": "code",
    "id": "HrxpnZm-CPbo"
   },
   "outputs": [],
   "source": [
    "from data_utils import onehotencode,sample_known_unknown_classes,\\\n",
    "sample_mismatch_labels,sample_mismatch_images,get_classwise, get_mapped_labels\n",
    "\n",
    "from sklearn.metrics import roc_auc_score, accuracy_score, confusion_matrix\n",
    "from sklearn.model_selection import train_test_split"
   ]
  },
  {
   "cell_type": "code",
   "execution_count": 0,
   "metadata": {
    "colab": {},
    "colab_type": "code",
    "id": "6I2bI97qPIWF"
   },
   "outputs": [],
   "source": [
    "# for resist GPU memory\n",
    "import tensorflow as tf\n",
    "config = tf.ConfigProto()\n",
    "config.gpu_options.allow_growth=True\n",
    "sess = tf.Session(config=config)\n",
    "K.set_session(sess)"
   ]
  },
  {
   "cell_type": "code",
   "execution_count": 0,
   "metadata": {
    "colab": {
     "base_uri": "https://localhost:8080/",
     "height": 52
    },
    "colab_type": "code",
    "executionInfo": {
     "elapsed": 22071,
     "status": "ok",
     "timestamp": 1589204362846,
     "user": {
      "displayName": "pranav budhwant",
      "photoUrl": "",
      "userId": "02290406553066095453"
     },
     "user_tz": -330
    },
    "id": "gScmbLl9PIWI",
    "outputId": "13cd465a-b1e6-428b-a929-62de809c0b77"
   },
   "outputs": [
    {
     "name": "stdout",
     "output_type": "stream",
     "text": [
      "Downloading data from https://s3.amazonaws.com/img-datasets/mnist.npz\n",
      "11493376/11490434 [==============================] - 1s 0us/step\n"
     ]
    }
   ],
   "source": [
    "from keras.datasets import cifar100, cifar10, mnist"
   ]
  },
  {
   "cell_type": "code",
   "execution_count": 0,
   "metadata": {
    "colab": {},
    "colab_type": "code",
    "id": "1P8D9yDYCPbx"
   },
   "outputs": [],
   "source": [
    "#_,known_classes,unknown_classes = sample_known_unknown_classes(10,6)\n",
    "\n",
    "known_classes = [9, 6, 0, 5, 3, 7]\n",
    "unknown_classes = [8, 1, 2, 4]\n",
    "\n",
    "known_class_mapping = {}\n",
    "known_class_mapping_inv = {}\n",
    "i=0\n",
    "for kc in known_classes:\n",
    "    known_class_mapping[kc] = i\n",
    "    known_class_mapping_inv[i] = kc\n",
    "    i+=1"
   ]
  },
  {
   "cell_type": "code",
   "execution_count": 0,
   "metadata": {
    "colab": {},
    "colab_type": "code",
    "id": "Lh4GaspMCPb2"
   },
   "outputs": [],
   "source": [
    "def get_mismatch_data(x_known_classwise,y_known,known_classes,known_class_mapping):\n",
    "    #Sample mismatch labels\n",
    "    y_known_mismatch = sample_mismatch_labels(y_known,known_classes)\n",
    "    #Sample mismatch images\n",
    "    x_known_mismatch = sample_mismatch_images(x_known_classwise,y_known_mismatch)\n",
    "    #Generate mapped labels\n",
    "    y_known_mismatch_mapped = get_mapped_labels(y_known_mismatch,known_class_mapping)\n",
    "    #Onehotencode mapped labels\n",
    "    y_known_mismatch_mapped_ohe = onehotencode(y_known_mismatch_mapped+1,wgan=True)\n",
    "    \n",
    "    #Reshape arrays\n",
    "    y_known_mismatch = y_known_mismatch.reshape((y_known_mismatch.shape[0],1))\n",
    "    y_known_mismatch_mapped = y_known_mismatch_mapped.reshape((y_known_mismatch_mapped.shape[0],1))    \n",
    "    if len(x_known_mismatch.shape)<4:\n",
    "        x_known_mismatch = np.expand_dims(x_known_mismatch,axis=-1)\n",
    "    \n",
    "    return (x_known_mismatch, y_known_mismatch, y_known_mismatch_mapped, y_known_mismatch_mapped_ohe)\n",
    "\n",
    "def get_known_unknown_data(x,y,known_classes,known_class_mapping,unknown_classes,unknown=False):\n",
    "    #Known - Match\n",
    "    y_known = y[np.where(np.isin(y,known_classes))]\n",
    "    x_known = x[np.where(np.isin(y,known_classes))]\n",
    "    \n",
    "    x_known_classwise = get_classwise(x_known,y_known,known_classes)\n",
    "    \n",
    "    #Generate mapped labels\n",
    "    y_known_mapped = get_mapped_labels(y_known,known_class_mapping)\n",
    "    #Onehotencode mapped labels\n",
    "    y_known_mapped_ohe = onehotencode(y_known_mapped+1,wgan=True)\n",
    "    \n",
    "    #Reshape arrays\n",
    "    y_known = y_known.reshape((y_known.shape[0],1))\n",
    "    y_known_mapped = y_known_mapped.reshape((y_known_mapped.shape[0],1))\n",
    "    if len(x_known.shape)<4:\n",
    "        x_known = np.expand_dims(x_known,axis=-1)\n",
    "    \n",
    "    #Known - Mismatch\n",
    "    x_known_mismatch, y_known_mismatch,\\\n",
    "    y_known_mismatch_mapped, y_known_mismatch_mapped_ohe = get_mismatch_data(x_known_classwise,\n",
    "                                                                             y_known,known_classes,\n",
    "                                                                             known_class_mapping)        \n",
    "    #Unknown\n",
    "    if unknown:\n",
    "        #y_unknown = y[np.where(np.isin(y,unknown_classes))]\n",
    "        x_unknown = x[np.where(np.isin(y,unknown_classes))]\n",
    "\n",
    "        if len(x_unknown.shape)<4:\n",
    "            x_unknown = np.expand_dims(x_unknown,axis=-1)\n",
    "            \n",
    "        return (x_known, x_known_classwise, y_known, y_known_mapped, y_known_mapped_ohe), \\\n",
    "                (x_known_mismatch, y_known_mismatch, y_known_mismatch_mapped, y_known_mismatch_mapped_ohe),\\\n",
    "                (x_unknown)\n",
    "\n",
    "    return (x_known, x_known_classwise, y_known, y_known_mapped, y_known_mapped_ohe), \\\n",
    "            (x_known_mismatch, y_known_mismatch, y_known_mismatch_mapped, y_known_mismatch_mapped_ohe)"
   ]
  },
  {
   "cell_type": "code",
   "execution_count": 0,
   "metadata": {
    "colab": {},
    "colab_type": "code",
    "id": "vT43VR04PIWQ"
   },
   "outputs": [],
   "source": [
    "#Hyperperemeter\n",
    "BATCHSIZE=64\n",
    "LEARNING_RATE = 0.0002\n",
    "TRAINING_RATIO = 2\n",
    "BETA_1 = 0.0\n",
    "BETA_2 = 0.9\n",
    "EPOCHS = 500\n",
    "BN_MIMENTUM = 0.9\n",
    "BN_EPSILON  = 0.00002\n",
    "SAVE_DIR = 'img/generated_img_CIFAR10_ResNet/'\n",
    "\n",
    "NUM_CLASSES = 10\n",
    "\n",
    "LATENT_DIM = 128\n",
    "\n",
    "USE_NOISE_GENERATOR = False\n",
    "\n",
    "IMG_SHAPE = (28,28,1)\n",
    "\n",
    "GENERATE_ROW_NUM = 8\n",
    "GENERATE_BATCHSIZE = GENERATE_ROW_NUM*GENERATE_ROW_NUM"
   ]
  },
  {
   "cell_type": "code",
   "execution_count": 0,
   "metadata": {
    "colab": {},
    "colab_type": "code",
    "id": "mp8HP7NFP71L"
   },
   "outputs": [],
   "source": [
    "def wasserstein_loss(y_true, y_pred):\n",
    "    return K.mean(y_true*y_pred)\n",
    "\n",
    "def crammer_singer_criterion(y_true, y_pred):\n",
    "    mask = tf.math.equal(y_true,1) #Get indices for target labels\n",
    "    mask_inv = tf.logical_not(mask) #Get indices for other labels\n",
    "    \n",
    "    shape1 = tf.stack((tf.shape(y_pred)[0],))\n",
    "    shape2 = tf.stack((tf.shape(y_pred)[0],tf.shape(y_pred)[1]-1))\n",
    "    \n",
    "    #Predicted values for target label\n",
    "    target = tf.reshape(tf.boolean_mask(y_pred,mask),shape1) \n",
    "    \n",
    "    #Max predicted value for wrong label\n",
    "    max_wrong = tf.math.reduce_max(tf.reshape(tf.boolean_mask(y_pred,mask_inv),\n",
    "                                              shape2),axis=1)\n",
    "    \n",
    "    return tf.reduce_mean(tf.nn.relu(1 + max_wrong - target))\n",
    "\n",
    "def fm_loss(y_true, y_pred):\n",
    "    target_features_mean = tf.reduce_mean(y_true,axis=0)\n",
    "    pred_features_mean = tf.reduce_mean(y_pred,axis=0)\n",
    "    abs_diff = tf.math.abs(target_features_mean - pred_features_mean)\n",
    "    return tf.reduce_mean(abs_diff)"
   ]
  },
  {
   "cell_type": "code",
   "execution_count": 0,
   "metadata": {
    "colab": {
     "base_uri": "https://localhost:8080/",
     "height": 970
    },
    "colab_type": "code",
    "executionInfo": {
     "elapsed": 40544,
     "status": "ok",
     "timestamp": 1589204384476,
     "user": {
      "displayName": "pranav budhwant",
      "photoUrl": "",
      "userId": "02290406553066095453"
     },
     "user_tz": -330
    },
    "id": "Oul9xSHDCXAE",
    "outputId": "e946246b-8f08-4227-c82f-99b0b043e5ba"
   },
   "outputs": [
    {
     "name": "stdout",
     "output_type": "stream",
     "text": [
      "WARNING:tensorflow:From /usr/local/lib/python3.6/dist-packages/keras/backend/tensorflow_backend.py:507: The name tf.placeholder is deprecated. Please use tf.compat.v1.placeholder instead.\n",
      "\n",
      "WARNING:tensorflow:From /usr/local/lib/python3.6/dist-packages/keras/backend/tensorflow_backend.py:238: The name tf.get_default_graph is deprecated. Please use tf.compat.v1.get_default_graph instead.\n",
      "\n",
      "WARNING:tensorflow:From /usr/local/lib/python3.6/dist-packages/keras/backend/tensorflow_backend.py:1797: The name tf.nn.fused_batch_norm is deprecated. Please use tf.compat.v1.nn.fused_batch_norm instead.\n",
      "\n",
      "WARNING:tensorflow:From /usr/local/lib/python3.6/dist-packages/keras/backend/tensorflow_backend.py:126: The name tf.placeholder_with_default is deprecated. Please use tf.compat.v1.placeholder_with_default instead.\n",
      "\n",
      "WARNING:tensorflow:From /usr/local/lib/python3.6/dist-packages/keras/backend/tensorflow_backend.py:3831: The name tf.random_uniform is deprecated. Please use tf.random.uniform instead.\n",
      "\n",
      "WARNING:tensorflow:From /usr/local/lib/python3.6/dist-packages/keras/backend/tensorflow_backend.py:3659: The name tf.nn.avg_pool is deprecated. Please use tf.nn.avg_pool2d instead.\n",
      "\n",
      "WARNING:tensorflow:From /usr/local/lib/python3.6/dist-packages/keras/backend/tensorflow_backend.py:192: The name tf.is_variable_initialized is deprecated. Please use tf.compat.v1.is_variable_initialized instead.\n",
      "\n",
      "WARNING:tensorflow:From /usr/local/lib/python3.6/dist-packages/keras/backend/tensorflow_backend.py:199: The name tf.variables_initializer is deprecated. Please use tf.compat.v1.variables_initializer instead.\n",
      "\n",
      "WARNING:tensorflow:From /usr/local/lib/python3.6/dist-packages/keras/optimizers.py:757: The name tf.train.Optimizer is deprecated. Please use tf.compat.v1.train.Optimizer instead.\n",
      "\n",
      "WARNING:tensorflow:From /usr/local/lib/python3.6/dist-packages/keras/backend/tensorflow_backend.py:3008: The name tf.log is deprecated. Please use tf.math.log instead.\n",
      "\n",
      "WARNING:tensorflow:From <ipython-input-12-3310138af28f>:3: py_func (from tensorflow.python.ops.script_ops) is deprecated and will be removed in a future version.\n",
      "Instructions for updating:\n",
      "tf.py_func is deprecated in TF V2. Instead, there are two\n",
      "    options available in V2.\n",
      "    - tf.py_function takes a python function which manipulates tf eager\n",
      "    tensors instead of numpy arrays. It's easy to convert a tf eager tensor to\n",
      "    an ndarray (just call tensor.numpy()) but having access to eager tensors\n",
      "    means `tf.py_function`s can use accelerators such as GPUs as well as\n",
      "    being differentiable using a gradient tape.\n",
      "    - tf.numpy_function maintains the semantics of the deprecated tf.py_func\n",
      "    (it is not differentiable, and manipulates numpy arrays). It drops the\n",
      "    stateful argument making all functions stateful.\n",
      "    \n",
      "WARNING:tensorflow:From /tensorflow-1.15.2/python3.6/tensorflow_core/python/ops/math_grad.py:1424: where (from tensorflow.python.ops.array_ops) is deprecated and will be removed in a future version.\n",
      "Instructions for updating:\n",
      "Use tf.where in 2.0, which has the same broadcast rule as np.where\n",
      "WARNING:tensorflow:From /usr/local/lib/python3.6/dist-packages/keras/backend/tensorflow_backend.py:976: The name tf.assign_add is deprecated. Please use tf.compat.v1.assign_add instead.\n",
      "\n",
      "WARNING:tensorflow:From /usr/local/lib/python3.6/dist-packages/keras/backend/tensorflow_backend.py:963: The name tf.assign is deprecated. Please use tf.compat.v1.assign instead.\n",
      "\n",
      "_________________________________________________________________\n",
      "Layer (type)                 Output Shape              Param #   \n",
      "=================================================================\n",
      "input_6 (InputLayer)         (None, 28, 28, 1)         0         \n",
      "_________________________________________________________________\n",
      "Encoder_Encoder (Model)      (None, 128)               1054724   \n",
      "_________________________________________________________________\n",
      "dense_1 (Dense)              (None, 6)                 774       \n",
      "=================================================================\n",
      "Total params: 1,055,498\n",
      "Trainable params: 1,053,704\n",
      "Non-trainable params: 1,794\n",
      "_________________________________________________________________\n"
     ]
    }
   ],
   "source": [
    "def auroc(y_true, y_pred):\n",
    "    try:\n",
    "        return tf.py_func(roc_auc_score, (y_true, y_pred), tf.double)\n",
    "    except:\n",
    "        return -1\n",
    "\n",
    "classifier = load_model('models/classifier/MNIST/classifier-save-20-0.002-0.030.hdf5',\n",
    "                        custom_objects={'GlobalSumPooling2D':GlobalSumPooling2D,\n",
    "                                        'auroc':auroc})\n",
    "classifier.summary()"
   ]
  },
  {
   "cell_type": "code",
   "execution_count": 0,
   "metadata": {
    "colab": {
     "base_uri": "https://localhost:8080/",
     "height": 386
    },
    "colab_type": "code",
    "executionInfo": {
     "elapsed": 1377,
     "status": "ok",
     "timestamp": 1589205426645,
     "user": {
      "displayName": "pranav budhwant",
      "photoUrl": "",
      "userId": "02290406553066095453"
     },
     "user_tz": -330
    },
    "id": "Q2ftExDwCPb-",
    "outputId": "bae86ab3-d05c-44b7-b35a-902ae2fbc1f5"
   },
   "outputs": [
    {
     "name": "stdout",
     "output_type": "stream",
     "text": [
      "_________________________________________________________________\n",
      "Layer (type)                 Output Shape              Param #   \n",
      "=================================================================\n",
      "input_1 (InputLayer)         (None, 28, 28, 1)         0         \n",
      "_________________________________________________________________\n",
      "Discriminator_resblock_Down_ (None, 14, 14, 128)       149636    \n",
      "_________________________________________________________________\n",
      "Discriminator_resblock_Down_ (None, 7, 7, 128)         312704    \n",
      "_________________________________________________________________\n",
      "Discriminator_resblock_1 (Mo (None, 7, 7, 128)         296192    \n",
      "_________________________________________________________________\n",
      "Discriminator_resblock_2 (Mo (None, 7, 7, 128)         296192    \n",
      "_________________________________________________________________\n",
      "activation_9 (Activation)    (None, 7, 7, 128)         0         \n",
      "_________________________________________________________________\n",
      "global_sum_pooling2d_1 (Glob (None, 128)               0         \n",
      "=================================================================\n",
      "Total params: 1,054,724\n",
      "Trainable params: 0\n",
      "Non-trainable params: 1,054,724\n",
      "_________________________________________________________________\n"
     ]
    }
   ],
   "source": [
    "#encoder = BuildEncoder(in_shape = IMG_SHAPE, latent_dim=LATENT_DIM)\n",
    "encoder = classifier.layers[1]\n",
    "encoder.summary()"
   ]
  },
  {
   "cell_type": "code",
   "execution_count": 0,
   "metadata": {
    "colab": {
     "base_uri": "https://localhost:8080/",
     "height": 1000
    },
    "colab_type": "code",
    "executionInfo": {
     "elapsed": 5159,
     "status": "ok",
     "timestamp": 1589205430716,
     "user": {
      "displayName": "pranav budhwant",
      "photoUrl": "",
      "userId": "02290406553066095453"
     },
     "user_tz": -330
    },
    "id": "P81AOHdijfFb",
    "outputId": "acf80a23-c2e2-43fb-85ce-222e6ca2cd81"
   },
   "outputs": [
    {
     "name": "stdout",
     "output_type": "stream",
     "text": [
      "Generator\n",
      "Spectral Normalization: True\n",
      "__________________________________________________________________________________________________\n",
      "Layer (type)                    Output Shape         Param #     Connected to                     \n",
      "==================================================================================================\n",
      "input_22 (InputLayer)           (None, 128)          0                                            \n",
      "__________________________________________________________________________________________________\n",
      "input_23 (InputLayer)           (None, 128)          0                                            \n",
      "__________________________________________________________________________________________________\n",
      "concatenate_2 (Concatenate)     (None, 256)          0           input_22[0][0]                   \n",
      "                                                                 input_23[0][0]                   \n",
      "__________________________________________________________________________________________________\n",
      "dense_sn_3 (DenseSN)            (None, 12544)        3236352     concatenate_2[0][0]              \n",
      "__________________________________________________________________________________________________\n",
      "reshape_2 (Reshape)             (None, 7, 7, 256)    0           dense_sn_3[0][0]                 \n",
      "__________________________________________________________________________________________________\n",
      "input_24 (InputLayer)           (None, 1)            0                                            \n",
      "__________________________________________________________________________________________________\n",
      "Generator_resblock_1 (Model)    (None, 14, 14, 256)  1257984     reshape_2[0][0]                  \n",
      "                                                                 input_24[0][0]                   \n",
      "__________________________________________________________________________________________________\n",
      "Generator_resblock_2 (Model)    (None, 28, 28, 256)  1257984     Generator_resblock_1[1][0]       \n",
      "                                                                 input_24[0][0]                   \n",
      "__________________________________________________________________________________________________\n",
      "batch_normalization_18 (BatchNo (None, 28, 28, 256)  512         Generator_resblock_2[1][0]       \n",
      "__________________________________________________________________________________________________\n",
      "conditional_affine_10 (Conditio (None, 28, 28, 256)  5120        batch_normalization_18[0][0]     \n",
      "                                                                 input_24[0][0]                   \n",
      "__________________________________________________________________________________________________\n",
      "activation_19 (Activation)      (None, 28, 28, 256)  0           conditional_affine_10[0][0]      \n",
      "__________________________________________________________________________________________________\n",
      "conv_s_n2d_24 (ConvSN2D)        (None, 28, 28, 1)    2306        activation_19[0][0]              \n",
      "==================================================================================================\n",
      "Total params: 5,760,258\n",
      "Trainable params: 5,743,617\n",
      "Non-trainable params: 16,641\n",
      "__________________________________________________________________________________________________\n",
      "Discriminator\n",
      "Spectral Normalization: True\n",
      "_________________________________________________________________\n",
      "Layer (type)                 Output Shape              Param #   \n",
      "=================================================================\n",
      "input_29 (InputLayer)        (None, 28, 28, 1)         0         \n",
      "_________________________________________________________________\n",
      "Discriminator_resblock_Down_ (None, 14, 14, 128)       150020    \n",
      "_________________________________________________________________\n",
      "Discriminator_resblock_Down_ (None, 7, 7, 128)         313088    \n",
      "_________________________________________________________________\n",
      "Discriminator_resblock_1 (Mo (None, 7, 7, 128)         296448    \n",
      "_________________________________________________________________\n",
      "Discriminator_resblock_2 (Mo (None, 7, 7, 128)         296448    \n",
      "_________________________________________________________________\n",
      "activation_28 (Activation)   (None, 7, 7, 128)         0         \n",
      "_________________________________________________________________\n",
      "global_sum_pooling2d_2 (Glob (None, 128)               0         \n",
      "_________________________________________________________________\n",
      "dense_sn_4 (DenseSN)         (None, 7)                 910       \n",
      "=================================================================\n",
      "Total params: 1,056,914\n",
      "Trainable params: 1,053,833\n",
      "Non-trainable params: 3,081\n",
      "_________________________________________________________________\n",
      "_________________________________________________________________\n",
      "Layer (type)                 Output Shape              Param #   \n",
      "=================================================================\n",
      "input_29 (InputLayer)        (None, 28, 28, 1)         0         \n",
      "_________________________________________________________________\n",
      "Discriminator_resblock_Down_ (None, 14, 14, 128)       150020    \n",
      "_________________________________________________________________\n",
      "Discriminator_resblock_Down_ (None, 7, 7, 128)         313088    \n",
      "_________________________________________________________________\n",
      "Discriminator_resblock_1 (Mo (None, 7, 7, 128)         296448    \n",
      "_________________________________________________________________\n",
      "Discriminator_resblock_2 (Mo (None, 7, 7, 128)         296448    \n",
      "_________________________________________________________________\n",
      "activation_28 (Activation)   (None, 7, 7, 128)         0         \n",
      "_________________________________________________________________\n",
      "global_sum_pooling2d_2 (Glob (None, 128)               0         \n",
      "=================================================================\n",
      "Total params: 1,056,004\n",
      "Trainable params: 1,052,930\n",
      "Non-trainable params: 3,074\n",
      "_________________________________________________________________\n"
     ]
    }
   ],
   "source": [
    "#CIFAR\n",
    "#generator = BuildGenerator(bn_momentum=BN_MIMENTUM, bn_epsilon=BN_EPSILON,cbn=CBN)\n",
    "#discriminator = BuildDiscriminator(cbn=CBN)\n",
    "\n",
    "#MNIST\n",
    "generator = BuildGenerator(cbn=NUM_CLASSES,resblock3=False,\n",
    "                           noise=True,\n",
    "                           spectral_normalization=True,\n",
    "                           out_channels=1,init_shape=(7,7,256),\n",
    "                           in_shape=(LATENT_DIM,))\n",
    "#CS LOSS\n",
    "discriminator, discriminator_feat = BuildDiscriminatorCS(num_classes=len(known_classes),\n",
    "                                                         in_shape=IMG_SHAPE,\n",
    "                                                         feat=True)"
   ]
  },
  {
   "cell_type": "code",
   "execution_count": 0,
   "metadata": {
    "colab": {
     "base_uri": "https://localhost:8080/",
     "height": 562
    },
    "colab_type": "code",
    "executionInfo": {
     "elapsed": 8446,
     "status": "ok",
     "timestamp": 1589205434504,
     "user": {
      "displayName": "pranav budhwant",
      "photoUrl": "",
      "userId": "02290406553066095453"
     },
     "user_tz": -330
    },
    "id": "6PF_OvjXPIWS",
    "outputId": "8154b9ce-6107-42c2-ce72-fbc0a63e711f"
   },
   "outputs": [
    {
     "name": "stdout",
     "output_type": "stream",
     "text": [
      "model_for_training_generator\n",
      "__________________________________________________________________________________________________\n",
      "Layer (type)                    Output Shape         Param #     Connected to                     \n",
      "==================================================================================================\n",
      "input_34 (InputLayer)           (None, 28, 28, 1)    0                                            \n",
      "__________________________________________________________________________________________________\n",
      "Encoder_Encoder (Model)         (None, 128)          1054724     input_34[0][0]                   \n",
      "__________________________________________________________________________________________________\n",
      "input_35 (InputLayer)           (None, 128)          0                                            \n",
      "__________________________________________________________________________________________________\n",
      "input_36 (InputLayer)           (None, 1)            0                                            \n",
      "__________________________________________________________________________________________________\n",
      "input_37 (InputLayer)           (None, 1)            0                                            \n",
      "__________________________________________________________________________________________________\n",
      "Generator (Model)               (None, 28, 28, 1)    5760258     Encoder_Encoder[4][0]            \n",
      "                                                                 input_35[0][0]                   \n",
      "                                                                 input_36[0][0]                   \n",
      "                                                                 Encoder_Encoder[4][0]            \n",
      "                                                                 input_35[0][0]                   \n",
      "                                                                 input_37[0][0]                   \n",
      "__________________________________________________________________________________________________\n",
      "Discriminator (Model)           (None, 7)            1056914     Generator[1][0]                  \n",
      "                                                                 Generator[2][0]                  \n",
      "__________________________________________________________________________________________________\n",
      "Discriminator_feat (Model)      (None, 128)          1056004     Generator[1][0]                  \n",
      "                                                                 Generator[2][0]                  \n",
      "==================================================================================================\n",
      "Total params: 7,871,896\n",
      "Trainable params: 5,743,617\n",
      "Non-trainable params: 2,128,279\n",
      "__________________________________________________________________________________________________\n"
     ]
    }
   ],
   "source": [
    "Image_input_for_encoder = Input(shape=IMG_SHAPE)\n",
    "Encoder_output = encoder(Image_input_for_encoder)\n",
    "Noise_input_for_training_generator = Input(shape=(LATENT_DIM,))\n",
    "\n",
    "#Merged_inputs = Concatenate()([Encoder_output,\n",
    "#                              Noise_input_for_training_generator])\n",
    "\n",
    "Match_class_input_for_training_generator = Input(shape=(1,),dtype='int32')\n",
    "Mismatch_class_input_for_training_generator = Input(shape=(1,),dtype='int32')\n",
    "\n",
    "Match_Generated_image = generator([Encoder_output,\n",
    "                                   Noise_input_for_training_generator,\n",
    "                                   Match_class_input_for_training_generator])\n",
    "Mismatch_Generated_image = generator([Encoder_output,\n",
    "                                      Noise_input_for_training_generator,\n",
    "                                      Mismatch_class_input_for_training_generator])\n",
    "\n",
    "Match_discriminator_output = discriminator(Match_Generated_image)\n",
    "Match_discriminator_feat_output = discriminator_feat(Match_Generated_image)\n",
    "\n",
    "Mismatch_discriminator_output = discriminator(Mismatch_Generated_image)\n",
    "Mismatch_discriminator_feat_output = discriminator_feat(Mismatch_Generated_image)\n",
    "\n",
    "\n",
    "model_for_training_generator = Model([Image_input_for_encoder,\n",
    "                                      Noise_input_for_training_generator,\n",
    "                                      Match_class_input_for_training_generator,\n",
    "                                      Mismatch_class_input_for_training_generator], \n",
    "                                     [Match_discriminator_output, Match_discriminator_feat_output,\n",
    "                                      Mismatch_discriminator_output, Mismatch_discriminator_feat_output])\n",
    "\n",
    "print(\"model_for_training_generator\")\n",
    "encoder.trainable=False\n",
    "discriminator.trainable = False\n",
    "discriminator_feat.trainable = False\n",
    "model_for_training_generator.summary()\n",
    "\n",
    "#lmbda = 0.05 #CS Loss Weight\n",
    "lmbda = 0.95 #FM Loss Weight\n",
    "beta = 0.7 #Match weight\n",
    "\n",
    "#Upscale the loss\n",
    "#lmbda *= 10\n",
    "#beta *= 10\n",
    "\n",
    "model_for_training_generator.compile(optimizer=Adam(LEARNING_RATE, \n",
    "                                                    beta_1=BETA_1, \n",
    "                                                    beta_2=BETA_2), \n",
    "                                     loss=[crammer_singer_criterion,fm_loss,\n",
    "                                           crammer_singer_criterion,fm_loss],\n",
    "                                     loss_weights=[beta*(1-lmbda),\n",
    "                                                   beta*lmbda,\n",
    "                                                   (1-beta)*(1-lmbda),\n",
    "                                                   (1-beta)*lmbda])"
   ]
  },
  {
   "cell_type": "code",
   "execution_count": 0,
   "metadata": {
    "colab": {
     "base_uri": "https://localhost:8080/",
     "height": 580
    },
    "colab_type": "code",
    "executionInfo": {
     "elapsed": 13321,
     "status": "ok",
     "timestamp": 1589205439767,
     "user": {
      "displayName": "pranav budhwant",
      "photoUrl": "",
      "userId": "02290406553066095453"
     },
     "user_tz": -330
    },
    "id": "QvbG6llrPIWV",
    "outputId": "0422e888-dc9f-4a09-d113-d2373ad204f7"
   },
   "outputs": [
    {
     "name": "stdout",
     "output_type": "stream",
     "text": [
      "model_for_training_discriminator\n",
      "__________________________________________________________________________________________________\n",
      "Layer (type)                    Output Shape         Param #     Connected to                     \n",
      "==================================================================================================\n",
      "input_38 (InputLayer)           (None, 28, 28, 1)    0                                            \n",
      "__________________________________________________________________________________________________\n",
      "Encoder_Encoder (Model)         (None, 128)          1054724     input_38[0][0]                   \n",
      "__________________________________________________________________________________________________\n",
      "input_42 (InputLayer)           (None, 128)          0                                            \n",
      "__________________________________________________________________________________________________\n",
      "input_40 (InputLayer)           (None, 1)            0                                            \n",
      "__________________________________________________________________________________________________\n",
      "input_41 (InputLayer)           (None, 1)            0                                            \n",
      "__________________________________________________________________________________________________\n",
      "input_39 (InputLayer)           (None, 28, 28, 1)    0                                            \n",
      "__________________________________________________________________________________________________\n",
      "Generator (Model)               (None, 28, 28, 1)    5760258     Encoder_Encoder[5][0]            \n",
      "                                                                 input_42[0][0]                   \n",
      "                                                                 input_40[0][0]                   \n",
      "                                                                 Encoder_Encoder[5][0]            \n",
      "                                                                 input_42[0][0]                   \n",
      "                                                                 input_41[0][0]                   \n",
      "__________________________________________________________________________________________________\n",
      "Discriminator (Model)           (None, 7)            1056914     input_38[0][0]                   \n",
      "                                                                 input_39[0][0]                   \n",
      "                                                                 Generator[3][0]                  \n",
      "                                                                 Generator[4][0]                  \n",
      "==================================================================================================\n",
      "Total params: 7,871,896\n",
      "Trainable params: 1,053,833\n",
      "Non-trainable params: 6,818,063\n",
      "__________________________________________________________________________________________________\n"
     ]
    }
   ],
   "source": [
    "#WLOSS\n",
    "Real_image = Input(shape=IMG_SHAPE)\n",
    "Mismatch_Real_image = Input(shape=IMG_SHAPE)\n",
    "\n",
    "Match_class_input_for_training_generator = Input(shape=(1,),dtype='int32')\n",
    "Mismatch_class_input_for_training_generator = Input(shape=(1,),dtype='int32')\n",
    "\n",
    "Encoder_output = encoder(Real_image)\n",
    "\n",
    "Noise_input_for_training_discriminator = Input(shape=(LATENT_DIM,))\n",
    "\n",
    "#Merged_inputs = Concatenate()([Encoder_output,\n",
    "#                              Noise_input_for_training_discriminator])\n",
    "\n",
    "Match_Fake_image = generator([Encoder_output,\n",
    "                              Noise_input_for_training_discriminator,\n",
    "                              Match_class_input_for_training_generator])\n",
    "Mismatch_Fake_image = generator([Encoder_output,\n",
    "                                 Noise_input_for_training_discriminator,\n",
    "                                 Mismatch_class_input_for_training_generator])\n",
    "\n",
    "Discriminator_output_for_real = discriminator(Real_image)\n",
    "Discriminator_output_for_mismatch_real = discriminator(Mismatch_Real_image)\n",
    "\n",
    "Discriminator_output_for_match_fake = discriminator(Match_Fake_image)\n",
    "Discriminator_output_for_mismatch_fake = discriminator(Mismatch_Fake_image)\n",
    "\n",
    "model_for_training_discriminator = Model([Real_image,\n",
    "                                          Mismatch_Real_image,\n",
    "                                          Noise_input_for_training_discriminator,\n",
    "                                          Match_class_input_for_training_generator,\n",
    "                                          Mismatch_class_input_for_training_generator],\n",
    "                                         [Discriminator_output_for_real,\n",
    "                                          Discriminator_output_for_mismatch_real,\n",
    "                                          Discriminator_output_for_match_fake,\n",
    "                                          Discriminator_output_for_mismatch_fake])\n",
    "\n",
    "print(\"model_for_training_discriminator\")\n",
    "encoder.trainable = False\n",
    "generator.trainable = False\n",
    "discriminator_feat.trainable=True\n",
    "discriminator.trainable = True\n",
    "model_for_training_discriminator.compile(optimizer=Adam(LEARNING_RATE, \n",
    "                                                        beta_1=BETA_1, \n",
    "                                                        beta_2=BETA_2), \n",
    "                                         loss=[crammer_singer_criterion,\n",
    "                                               crammer_singer_criterion, \n",
    "                                               crammer_singer_criterion,\n",
    "                                               crammer_singer_criterion])\n",
    "model_for_training_discriminator.summary()"
   ]
  },
  {
   "cell_type": "code",
   "execution_count": 0,
   "metadata": {
    "colab": {},
    "colab_type": "code",
    "id": "U7LrYflcCPcI"
   },
   "outputs": [],
   "source": [
    "(x_train, y_train), (x_test, y_test) = mnist.load_data()\n",
    "\n",
    "x_train = (x_train - 127.5)/127.5\n",
    "x_test = (x_test - 127.5)/127.5\n",
    "\n",
    "assert (np.min(x_train) == -1) and (np.max(x_train) == 1)\n",
    "assert (np.min(x_test) == -1) and (np.max(x_test) == 1)\n",
    "\n",
    "(x_train_known,x_train_known_classwise,y_train_known,y_train_known_mapped,y_train_known_mapped_ohe),\\\n",
    "(x_train_known_mismatch, y_train_known_mismatch, y_train_known_mismatch_mapped, y_train_known_mismatch_mapped_ohe),\\\n",
    "(x_train_unknown) = get_known_unknown_data(x_train,y_train,known_classes,known_class_mapping,unknown_classes,unknown=True)\n",
    "\n",
    "(x_test_known,x_test_known_classwise,y_test_known,y_test_known_mapped,y_test_known_mapped_ohe),\\\n",
    "(x_test_known_mismatch, y_test_known_mismatch, y_test_known_mismatch_mapped, y_test_known_mismatch_mapped_ohe),\\\n",
    "(x_test_unknown) = get_known_unknown_data(x_test,y_test,known_classes,known_class_mapping,unknown_classes,unknown=True)"
   ]
  },
  {
   "cell_type": "code",
   "execution_count": 0,
   "metadata": {
    "colab": {
     "base_uri": "https://localhost:8080/",
     "height": 281
    },
    "colab_type": "code",
    "executionInfo": {
     "elapsed": 1430,
     "status": "ok",
     "timestamp": 1589205467371,
     "user": {
      "displayName": "pranav budhwant",
      "photoUrl": "",
      "userId": "02290406553066095453"
     },
     "user_tz": -330
    },
    "id": "dIKPqW1lPIWY",
    "outputId": "618d8d8e-3282-44bd-8590-48cbebd2693b"
   },
   "outputs": [
    {
     "name": "stdout",
     "output_type": "stream",
     "text": [
      "[[1]\n",
      " [3]\n",
      " [5]\n",
      " [1]\n",
      " [0]]\n",
      "[[-1 -1  1 -1 -1 -1 -1]\n",
      " [-1 -1 -1 -1  1 -1 -1]\n",
      " [-1 -1 -1 -1 -1 -1  1]\n",
      " [-1 -1  1 -1 -1 -1 -1]\n",
      " [-1  1 -1 -1 -1 -1 -1]]\n",
      "[[ 1 -1 -1 -1 -1 -1 -1]\n",
      " [ 1 -1 -1 -1 -1 -1 -1]\n",
      " [ 1 -1 -1 -1 -1 -1 -1]\n",
      " [ 1 -1 -1 -1 -1 -1 -1]\n",
      " [ 1 -1 -1 -1 -1 -1 -1]]\n"
     ]
    }
   ],
   "source": [
    "fake_y = np.ones_like(y_train_known_mismatch_mapped_ohe)*-1\n",
    "fake_y[:,0] = 1\n",
    "\n",
    "print(y_train_known_mismatch_mapped[:5])\n",
    "print(y_train_known_mismatch_mapped_ohe[:5])\n",
    "print(fake_y[:5])\n",
    "\n",
    "assert np.sum(y_train_known_mismatch_mapped_ohe[:,0])*-1 == len(y_train_known_mismatch_mapped_ohe)\n",
    "assert np.sum(fake_y[:,0]) == len(fake_y)"
   ]
  },
  {
   "cell_type": "code",
   "execution_count": 0,
   "metadata": {
    "colab": {
     "base_uri": "https://localhost:8080/",
     "height": 580
    },
    "colab_type": "code",
    "executionInfo": {
     "elapsed": 8058,
     "status": "ok",
     "timestamp": 1589205474714,
     "user": {
      "displayName": "pranav budhwant",
      "photoUrl": "",
      "userId": "02290406553066095453"
     },
     "user_tz": -330
    },
    "id": "QDFrXpvXPIWc",
    "outputId": "ffb681cf-144b-4ab8-f99d-93d1b85a0fb6"
   },
   "outputs": [
    {
     "name": "stdout",
     "output_type": "stream",
     "text": [
      "[[3]\n",
      " [2]\n",
      " [0]\n",
      " [4]\n",
      " [4]\n",
      " [3]\n",
      " [4]\n",
      " [1]\n",
      " [5]\n",
      " [1]\n",
      " [0]\n",
      " [2]\n",
      " [0]\n",
      " [4]\n",
      " [5]\n",
      " [4]\n",
      " [1]\n",
      " [0]\n",
      " [2]\n",
      " [3]\n",
      " [1]\n",
      " [2]\n",
      " [5]\n",
      " [1]\n",
      " [5]\n",
      " [0]\n",
      " [4]\n",
      " [0]\n",
      " [3]\n",
      " [0]\n",
      " [4]\n",
      " [4]]\n"
     ]
    }
   ],
   "source": [
    "test_noise = np.random.randn(int(GENERATE_BATCHSIZE/2), LATENT_DIM)\n",
    "\n",
    "test_class = y_train_known_mapped[:int(GENERATE_BATCHSIZE/2)]\n",
    "test_class_ohe = y_train_known_mapped_ohe[:int(GENERATE_BATCHSIZE/2)]\n",
    "test_images = x_train_known[:int(GENERATE_BATCHSIZE/2)]\n",
    "test_image_embeddings = encoder.predict(test_images)\n",
    "\n",
    "test_mismatch_class = y_train_known_mismatch_mapped[:int(GENERATE_BATCHSIZE/2)]\n",
    "test_mismatch_class_ohe = y_train_known_mismatch_mapped_ohe[:int(GENERATE_BATCHSIZE/2)]\n",
    "test_mismatch_images = x_train_known_mismatch[:int(GENERATE_BATCHSIZE/2)]\n",
    "test_mismatch_image_embeddings = encoder.predict(test_mismatch_images)\n",
    "\n",
    "test_mismatch_noise = np.random.randint(0,255,test_images.shape).astype(test_images.dtype)\n",
    "test_mismatch_noise = (test_mismatch_noise - 127.5)/127.5\n",
    "\n",
    "test_fake_ohe = fake_y[:int(GENERATE_BATCHSIZE/2)]\n",
    "\n",
    "print(test_class)"
   ]
  },
  {
   "cell_type": "code",
   "execution_count": 0,
   "metadata": {
    "colab": {},
    "colab_type": "code",
    "id": "mnFSbJI_3YgU"
   },
   "outputs": [],
   "source": [
    "EPOCHS=150"
   ]
  },
  {
   "cell_type": "code",
   "execution_count": 0,
   "metadata": {
    "colab": {
     "base_uri": "https://localhost:8080/",
     "height": 1000
    },
    "colab_type": "code",
    "executionInfo": {
     "elapsed": 14596540,
     "status": "ok",
     "timestamp": 1589167454861,
     "user": {
      "displayName": "pranav budhwant",
      "photoUrl": "",
      "userId": "02290406553066095453"
     },
     "user_tz": -330
    },
    "id": "LlchGlxMPIWg",
    "outputId": "c70be527-225c-48b9-d289-dc66d3969cea"
   },
   "outputs": [
    {
     "name": "stdout",
     "output_type": "stream",
     "text": [
      "epoch 1 of 150\n",
      "number of batches: 556\n",
      "277/278 [============================>.] - ETA: 0s\n",
      "epoch time: 144.05561327934265\n",
      "32/32 [==============================] - 5s 142ms/step\n",
      "[1.0894505977630615, 1.1325596570968628, 0.3871302008628845, 1.726527452468872, 3.310100555419922]\n",
      "32/32 [==============================] - 0s 1ms/step\n",
      "[1.733680248260498, 2.0270192623138428, 0.3871977925300598, 1.729063868522644, 3.310281991958618]\n",
      "CS_loss: [1.0894505977630615, 1.1325596570968628, 0.3871302008628845, 1.726527452468872, 3.310100555419922, 1.733680248260498, 2.0270192623138428, 0.3871977925300598, 1.729063868522644, 3.310281991958618]\n",
      "plot generated_image\n",
      "epoch 2 of 150\n",
      "number of batches: 556\n",
      "277/278 [============================>.] - ETA: 0s\n",
      "epoch time: 96.97405314445496\n",
      "32/32 [==============================] - 0s 1ms/step\n",
      "[1.6585432291030884, 1.9146044254302979, 0.40867477655410767, 1.0044665336608887, 6.305461406707764]\n",
      "32/32 [==============================] - 0s 1ms/step\n",
      "[1.2397550344467163, 1.3331514596939087, 0.4089547097682953, 1.0020473003387451, 6.305513858795166]\n",
      "CS_loss: [1.6585432291030884, 1.9146044254302979, 0.40867477655410767, 1.0044665336608887, 6.305461406707764, 1.2397550344467163, 1.3331514596939087, 0.4089547097682953, 1.0020473003387451, 6.305513858795166]\n",
      "plot generated_image\n",
      "epoch 3 of 150\n",
      "number of batches: 556\n",
      "277/278 [============================>.] - ETA: 0s\n",
      "epoch time: 96.87569165229797\n",
      "32/32 [==============================] - 0s 985us/step\n",
      "[2.213536262512207, 2.533921718597412, 0.6022588014602661, 0.42470070719718933, 12.336492538452148]\n",
      "32/32 [==============================] - 0s 983us/step\n",
      "[0.7785117626190186, 0.5402208566665649, 0.6050710678100586, 0.42322516441345215, 12.33909797668457]\n",
      "CS_loss: [2.213536262512207, 2.533921718597412, 0.6022588014602661, 0.42470070719718933, 12.336492538452148, 0.7785117626190186, 0.5402208566665649, 0.6050710678100586, 0.42322516441345215, 12.33909797668457]\n",
      "plot generated_image\n",
      "epoch 4 of 150\n",
      "number of batches: 556\n",
      "277/278 [============================>.] - ETA: 0s\n",
      "epoch time: 96.953129529953\n",
      "32/32 [==============================] - 0s 894us/step\n",
      "[4.285552024841309, 5.657933235168457, 0.3956238925457001, 0.0, 7.031391143798828]\n",
      "32/32 [==============================] - 0s 1ms/step\n",
      "[0.21186064183712006, 0.0, 0.3957430422306061, 0.0, 7.031344413757324]\n",
      "CS_loss: [4.285552024841309, 5.657933235168457, 0.3956238925457001, 0.0, 7.031391143798828, 0.21186064183712006, 0.0, 0.3957430422306061, 0.0, 7.031344413757324]\n",
      "plot generated_image\n",
      "epoch 5 of 150\n",
      "number of batches: 556\n",
      "277/278 [============================>.] - ETA: 0s\n",
      "epoch time: 96.98570942878723\n",
      "32/32 [==============================] - 0s 910us/step\n",
      "[2.269364595413208, 2.9706804752349854, 0.2922027111053467, 0.1698647141456604, 3.2144391536712646]\n",
      "32/32 [==============================] - 0s 1ms/step\n",
      "[0.29084789752960205, 0.22272832691669464, 0.29225435853004456, 0.16986092925071716, 3.2144412994384766]\n",
      "CS_loss: [2.269364595413208, 2.9706804752349854, 0.2922027111053467, 0.1698647141456604, 3.2144391536712646, 0.29084789752960205, 0.22272832691669464, 0.29225435853004456, 0.16986092925071716, 3.2144412994384766]\n",
      "plot generated_image\n",
      "epoch 6 of 150\n",
      "number of batches: 556\n",
      "277/278 [============================>.] - ETA: 0s\n",
      "epoch time: 96.82833123207092\n",
      "32/32 [==============================] - 0s 899us/step\n",
      "[2.6037018299102783, 3.3572990894317627, 0.3132147789001465, 0.0008447915315628052, 6.500020980834961]\n",
      "32/32 [==============================] - 0s 1ms/step\n",
      "[0.1986047327518463, 0.01687021553516388, 0.3132716119289398, 0.0008582323789596558, 6.500031471252441]\n",
      "CS_loss: [2.6037018299102783, 3.3572990894317627, 0.3132147789001465, 0.0008447915315628052, 6.500020980834961, 0.1986047327518463, 0.01687021553516388, 0.3132716119289398, 0.0008582323789596558, 6.500031471252441]\n",
      "plot generated_image\n",
      "epoch 7 of 150\n",
      "number of batches: 556\n",
      "277/278 [============================>.] - ETA: 0s\n",
      "epoch time: 96.93389964103699\n",
      "32/32 [==============================] - 0s 969us/step\n",
      "[2.888920545578003, 3.5718746185302734, 0.3131740987300873, 0.0319213941693306, 12.912272453308105]\n",
      "32/32 [==============================] - 0s 979us/step\n",
      "[0.3171745538711548, 0.0, 0.31319645047187805, 0.03191864490509033, 12.912285804748535]\n",
      "CS_loss: [2.888920545578003, 3.5718746185302734, 0.3131740987300873, 0.0319213941693306, 12.912272453308105, 0.3171745538711548, 0.0, 0.31319645047187805, 0.03191864490509033, 12.912285804748535]\n",
      "plot generated_image\n",
      "epoch 8 of 150\n",
      "number of batches: 556\n",
      "277/278 [============================>.] - ETA: 0s\n",
      "epoch time: 96.877366065979\n",
      "32/32 [==============================] - 0s 963us/step\n",
      "[4.2805256843566895, 5.703150749206543, 0.36039215326309204, 0.0, 5.46933126449585]\n",
      "32/32 [==============================] - 0s 1ms/step\n",
      "[0.1742589771747589, 0.0, 0.3604012131690979, 0.0, 5.4693379402160645]\n",
      "CS_loss: [4.2805256843566895, 5.703150749206543, 0.36039215326309204, 0.0, 5.46933126449585, 0.1742589771747589, 0.0, 0.3604012131690979, 0.0, 5.4693379402160645]\n",
      "plot generated_image\n",
      "epoch 9 of 150\n",
      "number of batches: 556\n",
      "277/278 [============================>.] - ETA: 0s\n",
      "epoch time: 96.9386854171753\n",
      "32/32 [==============================] - 0s 923us/step\n",
      "[3.794199228286743, 4.871555328369141, 0.9041643142700195, 0.0, 6.196488380432129]\n",
      "32/32 [==============================] - 0s 1ms/step\n",
      "[0.2867705821990967, 0.0, 0.904670238494873, 0.0, 6.196496963500977]\n",
      "CS_loss: [3.794199228286743, 4.871555328369141, 0.9041643142700195, 0.0, 6.196488380432129, 0.2867705821990967, 0.0, 0.904670238494873, 0.0, 6.196496963500977]\n",
      "plot generated_image\n",
      "epoch 10 of 150\n",
      "number of batches: 556\n",
      "277/278 [============================>.] - ETA: 0s\n",
      "epoch time: 96.96547436714172\n",
      "32/32 [==============================] - 0s 931us/step\n",
      "[3.049753189086914, 3.971546173095703, 0.5604387521743774, 0.057945966720581055, 4.2362751960754395]\n",
      "32/32 [==============================] - 0s 1ms/step\n",
      "[0.19471879303455353, 0.006212398409843445, 0.5604739189147949, 0.05793413519859314, 4.236291408538818]\n",
      "CS_loss: [3.049753189086914, 3.971546173095703, 0.5604387521743774, 0.057945966720581055, 4.2362751960754395, 0.19471879303455353, 0.006212398409843445, 0.5604739189147949, 0.05793413519859314, 4.236291408538818]\n",
      "plot generated_image\n",
      "epoch 11 of 150\n",
      "number of batches: 556\n",
      "277/278 [============================>.] - ETA: 0s\n",
      "epoch time: 96.91308188438416\n",
      "32/32 [==============================] - 0s 919us/step\n",
      "[4.268626689910889, 5.383084297180176, 0.8943955302238464, 0.4343865215778351, 9.853181838989258]\n",
      "32/32 [==============================] - 0s 907us/step\n",
      "[0.39285433292388916, 0.0, 0.8947961926460266, 0.43403565883636475, 9.853408813476562]\n",
      "CS_loss: [4.268626689910889, 5.383084297180176, 0.8943955302238464, 0.4343865215778351, 9.853181838989258, 0.39285433292388916, 0.0, 0.8947961926460266, 0.43403565883636475, 9.853408813476562]\n",
      "plot generated_image\n",
      "epoch 12 of 150\n",
      "number of batches: 556\n",
      "277/278 [============================>.] - ETA: 0s\n",
      "epoch time: 96.5340621471405\n",
      "32/32 [==============================] - 0s 963us/step\n",
      "[5.6405720710754395, 7.557896614074707, 0.5630193948745728, 0.0, 4.877145290374756]\n",
      "32/32 [==============================] - 0s 989us/step\n",
      "[0.19887122511863708, 0.0, 0.5629302263259888, 0.0, 4.8771891593933105]\n",
      "CS_loss: [5.6405720710754395, 7.557896614074707, 0.5630193948745728, 0.0, 4.877145290374756, 0.19887122511863708, 0.0, 0.5629302263259888, 0.0, 4.8771891593933105]\n",
      "plot generated_image\n",
      "epoch 13 of 150\n",
      "number of batches: 556\n",
      "277/278 [============================>.] - ETA: 0s\n",
      "epoch time: 97.40839529037476\n",
      "32/32 [==============================] - 0s 911us/step\n",
      "[5.00069522857666, 6.027193069458008, 0.690239667892456, 0.0, 26.843631744384766]\n",
      "32/32 [==============================] - 0s 974us/step\n",
      "[0.6611214876174927, 0.0, 0.6902688145637512, 0.0, 26.84365463256836]\n",
      "CS_loss: [5.00069522857666, 6.027193069458008, 0.690239667892456, 0.0, 26.843631744384766, 0.6611214876174927, 0.0, 0.6902688145637512, 0.0, 26.84365463256836]\n",
      "plot generated_image\n",
      "epoch 14 of 150\n",
      "number of batches: 556\n",
      "277/278 [============================>.] - ETA: 0s\n",
      "epoch time: 97.57463908195496\n",
      "32/32 [==============================] - 0s 980us/step\n",
      "[3.702033281326294, 4.600493431091309, 0.37948012351989746, 0.008199341595172882, 16.035770416259766]\n",
      "32/32 [==============================] - 0s 969us/step\n",
      "[0.389679878950119, 0.0, 0.3794872760772705, 0.008205249905586243, 16.03578758239746]\n",
      "CS_loss: [3.702033281326294, 4.600493431091309, 0.37948012351989746, 0.008199341595172882, 16.035770416259766, 0.389679878950119, 0.0, 0.3794872760772705, 0.008205249905586243, 16.03578758239746]\n",
      "plot generated_image\n",
      "epoch 15 of 150\n",
      "number of batches: 556\n",
      "277/278 [============================>.] - ETA: 0s\n",
      "epoch time: 97.43220233917236\n",
      "32/32 [==============================] - 0s 940us/step\n",
      "[4.32703161239624, 5.3754143714904785, 0.449898362159729, 0.0, 18.787574768066406]\n",
      "32/32 [==============================] - 0s 994us/step\n",
      "[0.45673438906669617, 0.0, 0.4499048888683319, 0.0, 18.787574768066406]\n",
      "CS_loss: [4.32703161239624, 5.3754143714904785, 0.449898362159729, 0.0, 18.787574768066406, 0.45673438906669617, 0.0, 0.4499048888683319, 0.0, 18.787574768066406]\n",
      "plot generated_image\n",
      "epoch 16 of 150\n",
      "number of batches: 556\n",
      "277/278 [============================>.] - ETA: 0s\n",
      "epoch time: 97.46301627159119\n",
      "32/32 [==============================] - 0s 12ms/step\n",
      "[4.407062530517578, 5.829639434814453, 0.43314486742019653, 0.0, 6.58778190612793]\n",
      "32/32 [==============================] - 0s 1ms/step\n",
      "[0.2097436785697937, 0.0, 0.4332593083381653, 0.0, 6.587850570678711]\n",
      "CS_loss: [4.407062530517578, 5.829639434814453, 0.43314486742019653, 0.0, 6.58778190612793, 0.2097436785697937, 0.0, 0.4332593083381653, 0.0, 6.587850570678711]\n",
      "plot generated_image\n",
      "epoch 17 of 150\n",
      "number of batches: 556\n",
      "277/278 [============================>.] - ETA: 0s\n",
      "epoch time: 97.70851993560791\n",
      "32/32 [==============================] - 0s 917us/step\n",
      "[5.009536266326904, 5.955562114715576, 0.44709327816963196, 0.0, 32.05272674560547]\n",
      "32/32 [==============================] - 0s 1ms/step\n",
      "[0.721529483795166, 0.0, 0.4470940828323364, 0.0, 32.05262756347656]\n",
      "CS_loss: [5.009536266326904, 5.955562114715576, 0.44709327816963196, 0.0, 32.05272674560547, 0.721529483795166, 0.0, 0.4470940828323364, 0.0, 32.05262756347656]\n",
      "plot generated_image\n",
      "epoch 18 of 150\n",
      "number of batches: 556\n",
      "277/278 [============================>.] - ETA: 0s\n",
      "epoch time: 97.38702654838562\n",
      "32/32 [==============================] - 0s 901us/step\n",
      "[5.026987075805664, 6.100508689880371, 0.6210326552391052, 0.0, 26.14173698425293]\n",
      "32/32 [==============================] - 0s 1ms/step\n",
      "[0.6346246004104614, 0.0, 0.6210500597953796, 0.0, 26.141780853271484]\n",
      "CS_loss: [5.026987075805664, 6.100508689880371, 0.6210326552391052, 0.0, 26.14173698425293, 0.6346246004104614, 0.0, 0.6210500597953796, 0.0, 26.141780853271484]\n",
      "plot generated_image\n",
      "epoch 19 of 150\n",
      "number of batches: 556\n",
      "277/278 [============================>.] - ETA: 0s\n",
      "epoch time: 97.89734697341919\n",
      "32/32 [==============================] - 0s 942us/step\n",
      "[3.386240005493164, 4.181225776672363, 0.36212512850761414, 0.0, 15.528738021850586]\n",
      "32/32 [==============================] - 0s 1ms/step\n",
      "[0.37576034665107727, 0.0, 0.3621463477611542, 0.0, 15.52869987487793]\n",
      "CS_loss: [3.386240005493164, 4.181225776672363, 0.36212512850761414, 0.0, 15.528738021850586, 0.37576034665107727, 0.0, 0.3621463477611542, 0.0, 15.52869987487793]\n",
      "plot generated_image\n",
      "epoch 20 of 150\n",
      "number of batches: 556\n",
      "277/278 [============================>.] - ETA: 0s\n",
      "epoch time: 97.82254385948181\n",
      "32/32 [==============================] - 0s 950us/step\n",
      "[3.6240038871765137, 3.4685583114624023, 0.49059954285621643, 0.02712748944759369, 51.80819320678711]\n",
      "32/32 [==============================] - 0s 1ms/step\n",
      "[1.149040699005127, 0.031105443835258484, 0.49060654640197754, 0.027147836983203888, 51.808189392089844]\n",
      "CS_loss: [3.6240038871765137, 3.4685583114624023, 0.49059954285621643, 0.02712748944759369, 51.80819320678711, 1.149040699005127, 0.031105443835258484, 0.49060654640197754, 0.027147836983203888, 51.808189392089844]\n",
      "plot generated_image\n",
      "epoch 21 of 150\n",
      "number of batches: 556\n",
      "277/278 [============================>.] - ETA: 0s\n",
      "epoch time: 98.26866292953491\n",
      "32/32 [==============================] - 0s 907us/step\n",
      "[4.516404151916504, 5.871187210083008, 0.5133466720581055, 0.0, 9.837350845336914]\n",
      "32/32 [==============================] - 0s 971us/step\n",
      "[0.28915566205978394, 0.0, 0.513380229473114, 0.0, 9.837360382080078]\n",
      "CS_loss: [4.516404151916504, 5.871187210083008, 0.5133466720581055, 0.0, 9.837350845336914, 0.28915566205978394, 0.0, 0.513380229473114, 0.0, 9.837360382080078]\n",
      "plot generated_image\n",
      "epoch 22 of 150\n",
      "number of batches: 556\n",
      "277/278 [============================>.] - ETA: 0s\n",
      "epoch time: 98.31581115722656\n",
      "32/32 [==============================] - 0s 908us/step\n",
      "[6.19312858581543, 7.433372497558594, 0.6077601909637451, 0.0, 36.585166931152344]\n",
      "32/32 [==============================] - 0s 1ms/step\n",
      "[0.8411010503768921, 0.0, 0.6077650785446167, 0.0, 36.585166931152344]\n",
      "CS_loss: [6.19312858581543, 7.433372497558594, 0.6077601909637451, 0.0, 36.585166931152344, 0.8411010503768921, 0.0, 0.6077650785446167, 0.0, 36.585166931152344]\n",
      "plot generated_image\n",
      "epoch 23 of 150\n",
      "number of batches: 556\n",
      "277/278 [============================>.] - ETA: 0s\n",
      "epoch time: 98.27758526802063\n",
      "32/32 [==============================] - 0s 901us/step\n",
      "[4.865383148193359, 5.9435319900512695, 0.41553211212158203, 0.0, 25.56220245361328]\n",
      "32/32 [==============================] - 0s 1ms/step\n",
      "[0.5860434770584106, 0.0, 0.4155517816543579, 0.0, 25.562210083007812]\n",
      "CS_loss: [4.865383148193359, 5.9435319900512695, 0.41553211212158203, 0.0, 25.56220245361328, 0.5860434770584106, 0.0, 0.4155517816543579, 0.0, 25.562210083007812]\n",
      "plot generated_image\n",
      "epoch 24 of 150\n",
      "number of batches: 556\n",
      "277/278 [============================>.] - ETA: 0s\n",
      "epoch time: 98.32618522644043\n",
      "32/32 [==============================] - 0s 904us/step\n",
      "[5.5763139724731445, 6.434596061706543, 0.5485753417015076, 0.0, 42.23306655883789]\n",
      "32/32 [==============================] - 0s 1ms/step\n",
      "[0.9434689879417419, 0.0, 0.5488057136535645, 0.0, 42.23419952392578]\n",
      "CS_loss: [5.5763139724731445, 6.434596061706543, 0.5485753417015076, 0.0, 42.23306655883789, 0.9434689879417419, 0.0, 0.5488057136535645, 0.0, 42.23419952392578]\n",
      "plot generated_image\n",
      "epoch 25 of 150\n",
      "number of batches: 556\n",
      "277/278 [============================>.] - ETA: 0s\n",
      "epoch time: 98.7618350982666\n",
      "32/32 [==============================] - 0s 932us/step\n",
      "[4.122054100036621, 4.651693344116211, 0.5421171188354492, 0.04344634711742401, 33.588897705078125]\n",
      "32/32 [==============================] - 0s 1ms/step\n",
      "[0.7728346586227417, 0.0, 0.5421135425567627, 0.04345155507326126, 33.588905334472656]\n",
      "CS_loss: [4.122054100036621, 4.651693344116211, 0.5421171188354492, 0.04344634711742401, 33.588897705078125, 0.7728346586227417, 0.0, 0.5421135425567627, 0.04345155507326126, 33.588905334472656]\n",
      "plot generated_image\n",
      "epoch 26 of 150\n",
      "number of batches: 556\n",
      "277/278 [============================>.] - ETA: 0s\n",
      "epoch time: 99.19675946235657\n",
      "32/32 [==============================] - 0s 890us/step\n",
      "[3.310445547103882, 4.063436508178711, 0.5038743019104004, 0.04667721688747406, 14.516983032226562]\n",
      "32/32 [==============================] - 0s 1ms/step\n",
      "[0.42986220121383667, 0.06261851638555527, 0.5038977861404419, 0.0466909259557724, 14.516999244689941]\n",
      "CS_loss: [3.310445547103882, 4.063436508178711, 0.5038743019104004, 0.04667721688747406, 14.516983032226562, 0.42986220121383667, 0.06261851638555527, 0.5038977861404419, 0.0466909259557724, 14.516999244689941]\n",
      "plot generated_image\n",
      "epoch 27 of 150\n",
      "number of batches: 556\n",
      "277/278 [============================>.] - ETA: 0s\n",
      "epoch time: 99.18986058235168\n",
      "32/32 [==============================] - 0s 911us/step\n",
      "[4.004507064819336, 4.932308197021484, 0.6360050439834595, 0.0029271095991134644, 16.926488876342773]\n",
      "32/32 [==============================] - 0s 1ms/step\n",
      "[0.4532456696033478, 0.0, 0.6360111236572266, 0.0029221773147583008, 16.926494598388672]\n",
      "CS_loss: [4.004507064819336, 4.932308197021484, 0.6360050439834595, 0.0029271095991134644, 16.926488876342773, 0.4532456696033478, 0.0, 0.6360111236572266, 0.0029221773147583008, 16.926494598388672]\n",
      "plot generated_image\n",
      "epoch 28 of 150\n",
      "number of batches: 556\n",
      "277/278 [============================>.] - ETA: 0s\n",
      "epoch time: 99.08236074447632\n",
      "32/32 [==============================] - 0s 897us/step\n",
      "[4.124597072601318, 5.167843341827393, 0.487464964389801, 0.0, 15.800294876098633]\n",
      "32/32 [==============================] - 0s 1ms/step\n",
      "[0.40375033020973206, 0.0, 0.48746827244758606, 0.0, 15.800301551818848]\n",
      "CS_loss: [4.124597072601318, 5.167843341827393, 0.487464964389801, 0.0, 15.800294876098633, 0.40375033020973206, 0.0, 0.48746827244758606, 0.0, 15.800301551818848]\n",
      "plot generated_image\n",
      "epoch 29 of 150\n",
      "number of batches: 556\n",
      "277/278 [============================>.] - ETA: 0s\n",
      "epoch time: 99.27419137954712\n",
      "32/32 [==============================] - 0s 949us/step\n",
      "[5.12524938583374, 6.37086820602417, 0.5589855313301086, 0.0, 21.880348205566406]\n",
      "32/32 [==============================] - 0s 982us/step\n",
      "[0.5382266640663147, 0.0, 0.558997392654419, 0.0, 21.880355834960938]\n",
      "CS_loss: [5.12524938583374, 6.37086820602417, 0.5589855313301086, 0.0, 21.880348205566406, 0.5382266640663147, 0.0, 0.558997392654419, 0.0, 21.880355834960938]\n",
      "plot generated_image\n",
      "epoch 30 of 150\n",
      "number of batches: 556\n",
      "277/278 [============================>.] - ETA: 0s\n",
      "epoch time: 99.21555233001709\n",
      "32/32 [==============================] - 0s 929us/step\n",
      "[4.946429252624512, 6.1346001625061035, 0.4916078746318817, 0.0, 22.051380157470703]\n",
      "32/32 [==============================] - 0s 1ms/step\n",
      "[0.529525101184845, 0.0, 0.49164655804634094, 0.0, 22.051435470581055]\n",
      "CS_loss: [4.946429252624512, 6.1346001625061035, 0.4916078746318817, 0.0, 22.051380157470703, 0.529525101184845, 0.0, 0.49164655804634094, 0.0, 22.051435470581055]\n",
      "plot generated_image\n",
      "epoch 31 of 150\n",
      "number of batches: 556\n",
      "277/278 [============================>.] - ETA: 0s\n",
      "epoch time: 99.3020281791687\n",
      "32/32 [==============================] - 0s 910us/step\n",
      "[5.146720886230469, 6.1532416343688965, 0.7468038201332092, 0.0, 29.098098754882812]\n",
      "32/32 [==============================] - 0s 1ms/step\n",
      "[0.733940839767456, 0.0243862122297287, 0.7467620372772217, 0.0, 29.098278045654297]\n",
      "CS_loss: [5.146720886230469, 6.1532416343688965, 0.7468038201332092, 0.0, 29.098098754882812, 0.733940839767456, 0.0243862122297287, 0.7467620372772217, 0.0, 29.098278045654297]\n",
      "plot generated_image\n",
      "epoch 32 of 150\n",
      "number of batches: 556\n",
      "277/278 [============================>.] - ETA: 0s\n",
      "epoch time: 99.58215928077698\n",
      "32/32 [==============================] - 0s 904us/step\n",
      "[3.7917778491973877, 4.674602508544922, 0.4756953716278076, 0.019197389483451843, 16.94515037536621]\n",
      "32/32 [==============================] - 0s 1ms/step\n",
      "[0.43972402811050415, 0.01894664764404297, 0.47575142979621887, 0.01929435133934021, 16.94518280029297]\n",
      "CS_loss: [3.7917778491973877, 4.674602508544922, 0.4756953716278076, 0.019197389483451843, 16.94515037536621, 0.43972402811050415, 0.01894664764404297, 0.47575142979621887, 0.01929435133934021, 16.94518280029297]\n",
      "plot generated_image\n",
      "epoch 33 of 150\n",
      "number of batches: 556\n",
      "277/278 [============================>.] - ETA: 0s\n",
      "epoch time: 99.40467166900635\n",
      "32/32 [==============================] - 0s 960us/step\n",
      "[5.15343713760376, 6.779178619384766, 0.6125873327255249, 0.0, 8.10814094543457]\n",
      "32/32 [==============================] - 0s 1ms/step\n",
      "[0.2724646031856537, 0.0, 0.6127744317054749, 0.0, 8.108260154724121]\n",
      "CS_loss: [5.15343713760376, 6.779178619384766, 0.6125873327255249, 0.0, 8.10814094543457, 0.2724646031856537, 0.0, 0.6127744317054749, 0.0, 8.108260154724121]\n",
      "plot generated_image\n",
      "epoch 34 of 150\n",
      "number of batches: 556\n",
      "277/278 [============================>.] - ETA: 0s\n",
      "epoch time: 99.20929169654846\n",
      "32/32 [==============================] - 0s 917us/step\n",
      "[5.11192512512207, 5.945271015167236, 0.6402273178100586, 0.0, 35.804447174072266]\n",
      "32/32 [==============================] - 0s 1ms/step\n",
      "[0.831331729888916, 0.0, 0.6402366161346436, 0.0, 35.80445861816406]\n",
      "CS_loss: [5.11192512512207, 5.945271015167236, 0.6402273178100586, 0.0, 35.804447174072266, 0.831331729888916, 0.0, 0.6402366161346436, 0.0, 35.80445861816406]\n",
      "plot generated_image\n",
      "epoch 35 of 150\n",
      "number of batches: 556\n",
      "277/278 [============================>.] - ETA: 0s\n",
      "epoch time: 99.24661827087402\n",
      "32/32 [==============================] - 0s 916us/step\n",
      "[5.205682754516602, 6.655507564544678, 0.8475144505500793, 0.0, 13.058231353759766]\n",
      "32/32 [==============================] - 0s 1ms/step\n",
      "[0.4137153625488281, 0.0, 0.8475024104118347, 0.0, 13.058247566223145]\n",
      "CS_loss: [5.205682754516602, 6.655507564544678, 0.8475144505500793, 0.0, 13.058231353759766, 0.4137153625488281, 0.0, 0.8475024104118347, 0.0, 13.058247566223145]\n",
      "plot generated_image\n",
      "epoch 36 of 150\n",
      "number of batches: 556\n",
      "277/278 [============================>.] - ETA: 0s\n",
      "epoch time: 99.09683775901794\n",
      "32/32 [==============================] - 0s 941us/step\n",
      "[6.005992412567139, 7.045834064483643, 0.5021544098854065, 0.0, 42.130184173583984]\n",
      "32/32 [==============================] - 0s 1ms/step\n",
      "[0.9329922795295715, 0.0, 0.5021584033966064, 0.0, 42.13018798828125]\n",
      "CS_loss: [6.005992412567139, 7.045834064483643, 0.5021544098854065, 0.0, 42.130184173583984, 0.9329922795295715, 0.0, 0.5021584033966064, 0.0, 42.13018798828125]\n",
      "plot generated_image\n",
      "epoch 37 of 150\n",
      "number of batches: 556\n",
      "277/278 [============================>.] - ETA: 0s\n",
      "epoch time: 99.17455005645752\n",
      "32/32 [==============================] - 0s 985us/step\n",
      "[5.0009942054748535, 5.6098761558532715, 0.566501796245575, 0.0, 42.995635986328125]\n",
      "32/32 [==============================] - 0s 1ms/step\n",
      "[0.9619273543357849, 0.0, 0.566650390625, 0.0, 42.99651336669922]\n",
      "CS_loss: [5.0009942054748535, 5.6098761558532715, 0.566501796245575, 0.0, 42.995635986328125, 0.9619273543357849, 0.0, 0.566650390625, 0.0, 42.99651336669922]\n",
      "plot generated_image\n",
      "epoch 38 of 150\n",
      "number of batches: 556\n",
      "277/278 [============================>.] - ETA: 0s\n",
      "epoch time: 99.02459025382996\n",
      "32/32 [==============================] - 0s 980us/step\n",
      "[5.648672103881836, 6.537205696105957, 0.7155978679656982, 0.0, 40.65381622314453]\n",
      "32/32 [==============================] - 0s 1ms/step\n",
      "[0.9418851733207703, 0.0, 0.7156004905700684, 0.0, 40.65385437011719]\n",
      "CS_loss: [5.648672103881836, 6.537205696105957, 0.7155978679656982, 0.0, 40.65381622314453, 0.9418851733207703, 0.0, 0.7156004905700684, 0.0, 40.65385437011719]\n",
      "plot generated_image\n",
      "epoch 39 of 150\n",
      "number of batches: 556\n",
      "277/278 [============================>.] - ETA: 0s\n",
      "epoch time: 99.35370683670044\n",
      "32/32 [==============================] - 0s 960us/step\n",
      "[5.258571147918701, 6.221074104309082, 0.8984037637710571, 0.0, 30.88424301147461]\n",
      "32/32 [==============================] - 0s 1ms/step\n",
      "[0.7794119119644165, 0.0, 0.8984758853912354, 0.0, 30.88431167602539]\n",
      "CS_loss: [5.258571147918701, 6.221074104309082, 0.8984037637710571, 0.0, 30.88424301147461, 0.7794119119644165, 0.0, 0.8984758853912354, 0.0, 30.88431167602539]\n",
      "plot generated_image\n",
      "epoch 40 of 150\n",
      "number of batches: 556\n",
      "277/278 [============================>.] - ETA: 0s\n",
      "epoch time: 99.18136930465698\n",
      "32/32 [==============================] - 0s 944us/step\n",
      "[5.110388278961182, 6.1723127365112305, 0.9875780940055847, 0.0, 24.427936553955078]\n",
      "32/32 [==============================] - 0s 1ms/step\n",
      "[0.6663258671760559, 0.0, 0.9875935316085815, 0.0, 24.42795181274414]\n",
      "CS_loss: [5.110388278961182, 6.1723127365112305, 0.9875780940055847, 0.0, 24.427936553955078, 0.6663258671760559, 0.0, 0.9875935316085815, 0.0, 24.42795181274414]\n",
      "plot generated_image\n",
      "epoch 41 of 150\n",
      "number of batches: 556\n",
      "277/278 [============================>.] - ETA: 0s\n",
      "epoch time: 99.55273461341858\n",
      "32/32 [==============================] - 0s 919us/step\n",
      "[4.559497833251953, 5.829346179962158, 0.983165442943573, 0.0, 9.26993465423584]\n",
      "32/32 [==============================] - 0s 1ms/step\n",
      "[0.3623981475830078, 0.0, 0.9833208322525024, 0.0, 9.270020484924316]\n",
      "CS_loss: [4.559497833251953, 5.829346179962158, 0.983165442943573, 0.0, 9.26993465423584, 0.3623981475830078, 0.0, 0.9833208322525024, 0.0, 9.270020484924316]\n",
      "plot generated_image\n",
      "epoch 42 of 150\n",
      "number of batches: 556\n",
      "277/278 [============================>.] - ETA: 0s\n",
      "epoch time: 99.66767573356628\n",
      "32/32 [==============================] - 0s 912us/step\n",
      "[4.760573863983154, 5.87683629989624, 0.5901579856872559, 0.0, 21.151155471801758]\n",
      "32/32 [==============================] - 0s 1ms/step\n",
      "[0.5292547345161438, 0.0, 0.5901727676391602, 0.0, 21.151182174682617]\n",
      "CS_loss: [4.760573863983154, 5.87683629989624, 0.5901579856872559, 0.0, 21.151155471801758, 0.5292547345161438, 0.0, 0.5901727676391602, 0.0, 21.151182174682617]\n",
      "plot generated_image\n",
      "epoch 43 of 150\n",
      "number of batches: 556\n",
      "277/278 [============================>.] - ETA: 0s\n",
      "epoch time: 99.31542253494263\n",
      "32/32 [==============================] - 0s 901us/step\n",
      "[6.739077091217041, 6.180675983428955, 1.0003900527954102, 0.0, 105.44598388671875]\n",
      "32/32 [==============================] - 0s 1ms/step\n",
      "[2.288994550704956, 0.0, 1.000412106513977, 0.0, 105.44601440429688]\n",
      "CS_loss: [6.739077091217041, 6.180675983428955, 1.0003900527954102, 0.0, 105.44598388671875, 2.288994550704956, 0.0, 1.000412106513977, 0.0, 105.44601440429688]\n",
      "plot generated_image\n",
      "epoch 44 of 150\n",
      "number of batches: 556\n",
      "277/278 [============================>.] - ETA: 0s\n",
      "epoch time: 99.32733082771301\n",
      "32/32 [==============================] - 0s 913us/step\n",
      "[5.889920234680176, 6.825681686401367, 0.8542519211769104, 0.0, 41.08320236206055]\n",
      "32/32 [==============================] - 0s 920us/step\n",
      "[0.9755952954292297, 0.0, 0.8550755977630615, 0.0, 41.084083557128906]\n",
      "CS_loss: [5.889920234680176, 6.825681686401367, 0.8542519211769104, 0.0, 41.08320236206055, 0.9755952954292297, 0.0, 0.8550755977630615, 0.0, 41.084083557128906]\n",
      "plot generated_image\n",
      "epoch 45 of 150\n",
      "number of batches: 556\n",
      "277/278 [============================>.] - ETA: 0s\n",
      "epoch time: 99.2631893157959\n",
      "32/32 [==============================] - 0s 990us/step\n",
      "[5.253191947937012, 6.123896598815918, 0.7241873741149902, 0.0, 35.681610107421875]\n",
      "32/32 [==============================] - 0s 1ms/step\n",
      "[0.8439939618110657, 0.0, 0.7242261171340942, 0.0, 35.681663513183594]\n",
      "CS_loss: [5.253191947937012, 6.123896598815918, 0.7241873741149902, 0.0, 35.681610107421875, 0.8439939618110657, 0.0, 0.7242261171340942, 0.0, 35.681663513183594]\n",
      "plot generated_image\n",
      "epoch 46 of 150\n",
      "number of batches: 556\n",
      "277/278 [============================>.] - ETA: 0s\n",
      "epoch time: 98.73014521598816\n",
      "32/32 [==============================] - 0s 900us/step\n",
      "[4.560409069061279, 5.3443284034729, 0.765910267829895, 0.0, 28.73143768310547]\n",
      "32/32 [==============================] - 0s 1ms/step\n",
      "[0.7124952673912048, 0.0, 0.7659226655960083, 0.0, 28.73145866394043]\n",
      "CS_loss: [4.560409069061279, 5.3443284034729, 0.765910267829895, 0.0, 28.73143768310547, 0.7124952673912048, 0.0, 0.7659226655960083, 0.0, 28.73145866394043]\n",
      "plot generated_image\n",
      "epoch 47 of 150\n",
      "number of batches: 556\n",
      "277/278 [============================>.] - ETA: 0s\n",
      "epoch time: 98.77726984024048\n",
      "32/32 [==============================] - 0s 904us/step\n",
      "[4.5060882568359375, 5.5546159744262695, 0.8026359677314758, 0.0, 18.11452865600586]\n",
      "32/32 [==============================] - 0s 1ms/step\n",
      "[0.5067650079727173, 0.0, 0.8026353120803833, 0.0, 18.114532470703125]\n",
      "CS_loss: [4.5060882568359375, 5.5546159744262695, 0.8026359677314758, 0.0, 18.11452865600586, 0.5067650079727173, 0.0, 0.8026353120803833, 0.0, 18.114532470703125]\n",
      "plot generated_image\n",
      "epoch 48 of 150\n",
      "number of batches: 556\n",
      "277/278 [============================>.] - ETA: 0s\n",
      "epoch time: 98.78927564620972\n",
      "32/32 [==============================] - 0s 974us/step\n",
      "[4.196964740753174, 4.509401321411133, 1.0313267707824707, 0.0, 38.22783660888672]\n",
      "32/32 [==============================] - 0s 1ms/step\n",
      "[0.9502139687538147, 0.0, 1.0314189195632935, 0.0, 38.227928161621094]\n",
      "CS_loss: [4.196964740753174, 4.509401321411133, 1.0313267707824707, 0.0, 38.22783660888672, 0.9502139687538147, 0.0, 1.0314189195632935, 0.0, 38.227928161621094]\n",
      "plot generated_image\n",
      "epoch 49 of 150\n",
      "number of batches: 556\n",
      "277/278 [============================>.] - ETA: 0s\n",
      "epoch time: 98.86049485206604\n",
      "32/32 [==============================] - 0s 916us/step\n",
      "[8.856697082519531, 6.576620101928711, 1.3524917364120483, 0.0, 193.90406799316406]\n",
      "32/32 [==============================] - 0s 1ms/step\n",
      "[4.1215410232543945, 0.0, 1.3525474071502686, 0.0, 193.9041290283203]\n",
      "CS_loss: [8.856697082519531, 6.576620101928711, 1.3524917364120483, 0.0, 193.90406799316406, 4.1215410232543945, 0.0, 1.3525474071502686, 0.0, 193.9041290283203]\n",
      "plot generated_image\n",
      "epoch 50 of 150\n",
      "number of batches: 556\n",
      "277/278 [============================>.] - ETA: 0s\n",
      "epoch time: 99.29547905921936\n",
      "32/32 [==============================] - 0s 1ms/step\n",
      "[6.909541606903076, 7.25479793548584, 0.7365403771400452, 0.0, 77.67546081542969]\n",
      "32/32 [==============================] - 0s 1ms/step\n",
      "[1.6860976219177246, 0.0, 0.7365832924842834, 0.0, 77.67562866210938]\n",
      "CS_loss: [6.909541606903076, 7.25479793548584, 0.7365403771400452, 0.0, 77.67546081542969, 1.6860976219177246, 0.0, 0.7365832924842834, 0.0, 77.67562866210938]\n",
      "plot generated_image\n",
      "epoch 51 of 150\n",
      "number of batches: 556\n",
      "277/278 [============================>.] - ETA: 0s\n",
      "epoch time: 99.63767790794373\n",
      "32/32 [==============================] - 0s 921us/step\n",
      "[6.3384504318237305, 5.435437202453613, 1.3853799104690552, 0.0, 108.77836608886719]\n",
      "32/32 [==============================] - 0s 1ms/step\n",
      "[2.4249391555786133, 0.0, 1.3853973150253296, 0.0, 108.77838134765625]\n",
      "CS_loss: [6.3384504318237305, 5.435437202453613, 1.3853799104690552, 0.0, 108.77836608886719, 2.4249391555786133, 0.0, 1.3853973150253296, 0.0, 108.77838134765625]\n",
      "plot generated_image\n",
      "epoch 52 of 150\n",
      "number of batches: 556\n",
      "277/278 [============================>.] - ETA: 0s\n",
      "epoch time: 100.788578748703\n",
      "32/32 [==============================] - 0s 940us/step\n",
      "[5.761161804199219, 5.49721097946167, 0.7714519500732422, 0.0, 83.21543884277344]\n",
      "32/32 [==============================] - 0s 1ms/step\n",
      "[1.8031713962554932, 0.0, 0.7714558839797974, 0.0, 83.21546936035156]\n",
      "CS_loss: [5.761161804199219, 5.49721097946167, 0.7714519500732422, 0.0, 83.21543884277344, 1.8031713962554932, 0.0, 0.7714558839797974, 0.0, 83.21546936035156]\n",
      "plot generated_image\n",
      "epoch 53 of 150\n",
      "number of batches: 556\n",
      "232/278 [========================>.....] - ETA: 16s"
     ]
    }
   ],
   "source": [
    "image_dim = 28 #32\n",
    "image_channels = 1 #3\n",
    "CS_loss = []\n",
    "discriminator_loss = []\n",
    "generator_loss = []\n",
    "for epoch in range(EPOCHS):\n",
    "    x_train_known, y_train_known,\\\n",
    "    y_train_known_mapped, y_train_known_mapped_ohe = shuffle(x_train_known, \n",
    "                                                             y_train_known,\n",
    "                                                             y_train_known_mapped, \n",
    "                                                             y_train_known_mapped_ohe)\n",
    "\n",
    "    x_train_known_mismatch, y_train_known_mismatch,\\\n",
    "    y_train_known_mismatch_mapped, y_train_known_mismatch_mapped_ohe = shuffle(x_train_known_mismatch, \n",
    "                                                                               y_train_known_mismatch, \n",
    "                                                                               y_train_known_mismatch_mapped, \n",
    "                                                                               y_train_known_mismatch_mapped_ohe)\n",
    "\n",
    "    #X,Y,real_y = shuffle(X,Y,real_y)\n",
    "    \n",
    "    print(\"epoch {} of {}\".format(epoch+1, EPOCHS))\n",
    "    num_batches = int(x_train_known.shape[0] // BATCHSIZE)\n",
    "    \n",
    "    print(\"number of batches: {}\".format(int(x_train_known.shape[0] // (BATCHSIZE))))\n",
    "    \n",
    "    progress_bar = Progbar(target=int(x_train_known.shape[0] // (BATCHSIZE * TRAINING_RATIO)))\n",
    "    minibatches_size = BATCHSIZE * TRAINING_RATIO\n",
    "    \n",
    "    start_time = time()\n",
    "    for index in range(int(x_train_known.shape[0] // (BATCHSIZE * TRAINING_RATIO))):\n",
    "        progress_bar.update(index)\n",
    "        \n",
    "        minibatches_X = x_train_known[index * minibatches_size:(index + 1) * minibatches_size]\n",
    "        minibatches_Y = y_train_known_mapped[index * minibatches_size:(index + 1) * minibatches_size]\n",
    "        minibatches_Y_ohe = y_train_known_mapped_ohe[index * minibatches_size:(index + 1) * minibatches_size]\n",
    "        \n",
    "        minibatches_mismatch_X = x_train_known_mismatch[index * minibatches_size:(index + 1) * minibatches_size]\n",
    "        minibatches_mismatch_Y = y_train_known_mismatch_mapped[index * minibatches_size:(index + 1) * minibatches_size]\n",
    "        minibatches_mismatch_Y_ohe = y_train_known_mismatch_mapped_ohe[index * minibatches_size:(index + 1) * minibatches_size]\n",
    "        \n",
    "        #minibatches_real_y = real_y[index * minibatches_size:(index + 1) * minibatches_size]\n",
    "        minibatches_fake_y = fake_y[index * minibatches_size:(index + 1) * minibatches_size]\n",
    "        \n",
    "        for j in range(TRAINING_RATIO):\n",
    "            image_batch = minibatches_X[j * BATCHSIZE : (j + 1) * BATCHSIZE]\n",
    "            match_class_batch = minibatches_Y[j * BATCHSIZE : (j + 1) * BATCHSIZE]\n",
    "            match_class_batch_ohe = minibatches_Y_ohe[j * BATCHSIZE : (j + 1) * BATCHSIZE]\n",
    "            \n",
    "            mismatch_image_batch = minibatches_mismatch_X[j * BATCHSIZE : (j + 1) * BATCHSIZE]\n",
    "            mismatch_class_batch = minibatches_mismatch_Y[j * BATCHSIZE : (j + 1) * BATCHSIZE]\n",
    "            mismatch_class_batch_ohe = minibatches_mismatch_Y_ohe[j * BATCHSIZE : (j + 1) * BATCHSIZE]\n",
    "            \n",
    "            #real_y_batch = minibatches_real_y[j * BATCHSIZE : (j + 1) * BATCHSIZE]\n",
    "            \n",
    "            fake_y_batch = minibatches_fake_y[j * BATCHSIZE : (j + 1) * BATCHSIZE]\n",
    "            \n",
    "            noise = np.random.randn(BATCHSIZE, 128).astype(np.float32)\n",
    "            \n",
    "            discriminator_feat.trainable = True\n",
    "            discriminator.trainable = True\n",
    "            generator.trainable = False\n",
    "            \n",
    "            discriminator_loss.append(model_for_training_discriminator.train_on_batch([image_batch,\n",
    "                                                                                       mismatch_image_batch,\n",
    "                                                                                       noise,\n",
    "                                                                                       match_class_batch,\n",
    "                                                                                       mismatch_class_batch],\n",
    "                                                                                      [match_class_batch_ohe,\n",
    "                                                                                       mismatch_class_batch_ohe,\n",
    "                                                                                       fake_y_batch,\n",
    "                                                                                       fake_y_batch]))\n",
    "        discriminator_feat.trainable = False\n",
    "        discriminator.trainable = False\n",
    "        generator.trainable = True\n",
    "        \n",
    "        match_feat_batch = discriminator_feat.predict_on_batch(image_batch)\n",
    "        mismatch_noise = np.random.randint(0,255,mismatch_image_batch.shape).astype(mismatch_image_batch.dtype)\n",
    "        mismatch_noise = (mismatch_noise - 127.5)/127.5\n",
    "        mismatch_feat_batch = discriminator_feat.predict_on_batch(mismatch_noise)\n",
    "        #mismatch_feat_batch = discriminator_feat.predict_on_batch(mismatch_image_batch)\n",
    "        \n",
    "        generator_loss.append(model_for_training_generator.train_on_batch([image_batch,\n",
    "                                                                           np.random.randn(BATCHSIZE, 128),\n",
    "                                                                           match_class_batch,\n",
    "                                                                           mismatch_class_batch], \n",
    "                                                                          [match_class_batch_ohe, \n",
    "                                                                           match_feat_batch, \n",
    "                                                                           fake_y_batch, #mismatch_class_batch_ohe \n",
    "                                                                           mismatch_feat_batch]))\n",
    "    \n",
    "    print('\\nepoch time: {}'.format(time()-start_time))\n",
    "        \n",
    "    test_feat_batch = discriminator_feat.predict_on_batch(test_images)\n",
    "    #test_mismatch_feat_batch = discriminator_feat.predict_on_batch(test_mismatch_images)\n",
    "    test_mismatch_feat_batch = discriminator_feat.predict_on_batch(test_mismatch_noise)\n",
    "    \n",
    "    W_real = model_for_training_generator.evaluate([test_images,\n",
    "                                                    test_noise,\n",
    "                                                    test_class,\n",
    "                                                    test_mismatch_class], \n",
    "                                                   [test_class_ohe,\n",
    "                                                    test_feat_batch,\n",
    "                                                    test_fake_ohe, #test_mismatch_class_ohe\n",
    "                                                    test_mismatch_feat_batch])\n",
    "    print(W_real)\n",
    "    W_fake = model_for_training_generator.evaluate([test_images,\n",
    "                                                    test_noise,\n",
    "                                                    test_class,\n",
    "                                                    test_mismatch_class], \n",
    "                                                   [test_fake_ohe,\n",
    "                                                    test_feat_batch,\n",
    "                                                    test_fake_ohe,\n",
    "                                                    test_mismatch_feat_batch])\n",
    "    print(W_fake)\n",
    "    W_l = W_real+W_fake\n",
    "    print('CS_loss: {}'.format(W_l))\n",
    "    CS_loss.append(W_l)\n",
    "    \n",
    "    #Generate image\n",
    "    generated_match_image = generator.predict([test_image_embeddings,\n",
    "                                               test_noise,\n",
    "                                               test_class])\n",
    "    generated_mismatch_image = generator.predict([test_image_embeddings,\n",
    "                                                  test_noise,\n",
    "                                                  test_mismatch_class])\n",
    "    \n",
    "    generated_match_image = (generated_match_image+1)/2\n",
    "    generated_mismatch_image = (generated_mismatch_image+1)/2\n",
    "    \n",
    "    generated_image = np.append(generated_match_image,generated_mismatch_image,axis=0)\n",
    "    \n",
    "    assert len(generated_image) == GENERATE_BATCHSIZE\n",
    "    \n",
    "    for i in range(GENERATE_ROW_NUM):\n",
    "        if image_channels == 1:\n",
    "            new = generated_image[i*GENERATE_ROW_NUM:i*GENERATE_ROW_NUM+GENERATE_ROW_NUM].reshape(image_dim*GENERATE_ROW_NUM,\n",
    "                                                                                              image_dim)\n",
    "        else:\n",
    "            new = generated_image[i*GENERATE_ROW_NUM:i*GENERATE_ROW_NUM+GENERATE_ROW_NUM].reshape(image_dim*GENERATE_ROW_NUM,\n",
    "                                                                                              image_dim,image_channels)\n",
    "        if i!=0:\n",
    "            old = np.concatenate((old,new),axis=1)\n",
    "        else:\n",
    "            old = new\n",
    "    print('plot generated_image')\n",
    "    \n",
    "    if image_channels == 1:\n",
    "        plt.imsave('{}/SN_epoch_{}.png'.format(SAVE_DIR, epoch), old, cmap='gray')\n",
    "    else:\n",
    "        plt.imsave('{}/SN_epoch_{}.png'.format(SAVE_DIR, epoch), old)"
   ]
  },
  {
   "cell_type": "code",
   "execution_count": 0,
   "metadata": {
    "colab": {
     "base_uri": "https://localhost:8080/",
     "height": 105
    },
    "colab_type": "code",
    "executionInfo": {
     "elapsed": 13661141,
     "status": "ok",
     "timestamp": 1589167454864,
     "user": {
      "displayName": "pranav budhwant",
      "photoUrl": "",
      "userId": "02290406553066095453"
     },
     "user_tz": -330
    },
    "id": "x_1-eIcQ9QaR",
    "outputId": "05fb25d9-353f-4760-bcca-afa66ef5d44c"
   },
   "outputs": [
    {
     "data": {
      "text/plain": [
       "['loss',\n",
       " 'Discriminator_loss',\n",
       " 'Discriminator_loss',\n",
       " 'Discriminator_loss',\n",
       " 'Discriminator_loss']"
      ]
     },
     "execution_count": 33,
     "metadata": {
      "tags": []
     },
     "output_type": "execute_result"
    }
   ],
   "source": [
    "model_for_training_discriminator.metrics_names"
   ]
  },
  {
   "cell_type": "code",
   "execution_count": 0,
   "metadata": {
    "colab": {
     "base_uri": "https://localhost:8080/",
     "height": 282
    },
    "colab_type": "code",
    "executionInfo": {
     "elapsed": 13661663,
     "status": "ok",
     "timestamp": 1589167455658,
     "user": {
      "displayName": "pranav budhwant",
      "photoUrl": "",
      "userId": "02290406553066095453"
     },
     "user_tz": -330
    },
    "id": "DMH0vin4PIWj",
    "outputId": "f097863e-153f-447a-8fba-06acb8c4a825"
   },
   "outputs": [
    {
     "data": {
      "text/plain": [
       "<matplotlib.legend.Legend at 0x7fa0246815c0>"
      ]
     },
     "execution_count": 34,
     "metadata": {
      "tags": []
     },
     "output_type": "execute_result"
    },
    {
     "data": {
      "image/png": "[encoded data removed]",
      "text/plain": [
       "<Figure size 432x288 with 1 Axes>"
      ]
     },
     "metadata": {
      "needs_background": "light",
      "tags": []
     },
     "output_type": "display_data"
    }
   ],
   "source": [
    "disc_loss = np.array(discriminator_loss)\n",
    "d_loss = disc_loss[:,0]\n",
    "d_loss_real = disc_loss[:,1]\n",
    "d_loss_fake = disc_loss[:,2]\n",
    "plt.plot(d_loss,label='dloss')\n",
    "plt.plot(d_loss_real,label='dloss_real')\n",
    "plt.plot(d_loss_fake,label='dloss_fake')\n",
    "plt.legend(loc='best')"
   ]
  },
  {
   "cell_type": "code",
   "execution_count": 0,
   "metadata": {
    "colab": {
     "base_uri": "https://localhost:8080/",
     "height": 353
    },
    "colab_type": "code",
    "executionInfo": {
     "elapsed": 13660981,
     "status": "ok",
     "timestamp": 1589167455660,
     "user": {
      "displayName": "pranav budhwant",
      "photoUrl": "",
      "userId": "02290406553066095453"
     },
     "user_tz": -330
    },
    "id": "blOIfkEp8QAl",
    "outputId": "657b23ec-b50d-420b-c959-249e0720a9af"
   },
   "outputs": [
    {
     "data": {
      "text/plain": [
       "[<matplotlib.lines.Line2D at 0x7fa01fc73a20>,\n",
       " <matplotlib.lines.Line2D at 0x7fa01fc73b38>,\n",
       " <matplotlib.lines.Line2D at 0x7fa01fc73c88>,\n",
       " <matplotlib.lines.Line2D at 0x7fa01fc73dd8>,\n",
       " <matplotlib.lines.Line2D at 0x7fa01fc73f28>]"
      ]
     },
     "execution_count": 35,
     "metadata": {
      "tags": []
     },
     "output_type": "execute_result"
    },
    {
     "data": {
      "image/png": "[encoded data removed]",
      "text/plain": [
       "<Figure size 432x288 with 1 Axes>"
      ]
     },
     "metadata": {
      "needs_background": "light",
      "tags": []
     },
     "output_type": "display_data"
    }
   ],
   "source": [
    "plt.plot(generator_loss)"
   ]
  },
  {
   "cell_type": "code",
   "execution_count": 0,
   "metadata": {
    "colab": {
     "base_uri": "https://localhost:8080/",
     "height": 441
    },
    "colab_type": "code",
    "executionInfo": {
     "elapsed": 13661614,
     "status": "ok",
     "timestamp": 1589167456907,
     "user": {
      "displayName": "pranav budhwant",
      "photoUrl": "",
      "userId": "02290406553066095453"
     },
     "user_tz": -330
    },
    "id": "vlSZcJ2V8TvR",
    "outputId": "e243973b-3f3c-40ef-ddb0-c9d30f5edc02"
   },
   "outputs": [
    {
     "data": {
      "text/plain": [
       "[<matplotlib.lines.Line2D at 0x7fa01fbe9710>,\n",
       " <matplotlib.lines.Line2D at 0x7fa01fbe9828>,\n",
       " <matplotlib.lines.Line2D at 0x7fa01fbe9978>,\n",
       " <matplotlib.lines.Line2D at 0x7fa01fbe9ac8>,\n",
       " <matplotlib.lines.Line2D at 0x7fa01fbe9c18>,\n",
       " <matplotlib.lines.Line2D at 0x7fa01fbe9d68>,\n",
       " <matplotlib.lines.Line2D at 0x7fa01fbe9eb8>,\n",
       " <matplotlib.lines.Line2D at 0x7fa01fbf3048>,\n",
       " <matplotlib.lines.Line2D at 0x7fa01fbf3198>,\n",
       " <matplotlib.lines.Line2D at 0x7fa01fbf32e8>]"
      ]
     },
     "execution_count": 36,
     "metadata": {
      "tags": []
     },
     "output_type": "execute_result"
    },
    {
     "data": {
      "image/png": "[encoded data removed]",
      "text/plain": [
       "<Figure size 432x288 with 1 Axes>"
      ]
     },
     "metadata": {
      "needs_background": "light",
      "tags": []
     },
     "output_type": "display_data"
    }
   ],
   "source": [
    "plt.plot(CS_loss)"
   ]
  },
  {
   "cell_type": "code",
   "execution_count": 0,
   "metadata": {
    "colab": {},
    "colab_type": "code",
    "id": "oyo6cvX_8ZjM"
   },
   "outputs": [],
   "source": [
    "MODEL_DIR = 'models/'\n",
    "model_for_training_generator.save(MODEL_DIR+'model_for_training_generator_ep250_mnist.h5')\n",
    "model_for_training_discriminator.save(MODEL_DIR+'model_for_training_discriminator_ep250_mnist.h5')\n",
    "generator.save(MODEL_DIR+'generator_ep250_mnist.h5')\n",
    "discriminator.save(MODEL_DIR+'discriminator_ep250_mnist.h5')"
   ]
  },
  {
   "cell_type": "code",
   "execution_count": 0,
   "metadata": {
    "colab": {
     "base_uri": "https://localhost:8080/",
     "height": 34
    },
    "colab_type": "code",
    "executionInfo": {
     "elapsed": 13715306,
     "status": "ok",
     "timestamp": 1589167513197,
     "user": {
      "displayName": "pranav budhwant",
      "photoUrl": "",
      "userId": "02290406553066095453"
     },
     "user_tz": -330
    },
    "id": "7GCuU_LxDFp4",
    "outputId": "10cc3bce-9663-4099-c660-651b466768e5"
   },
   "outputs": [
    {
     "data": {
      "text/plain": [
       "['losses/CS_loss_ep250_mnist.pkl']"
      ]
     },
     "execution_count": 38,
     "metadata": {
      "tags": []
     },
     "output_type": "execute_result"
    }
   ],
   "source": [
    "import joblib\n",
    "\n",
    "LOSS_DIR = 'losses/'\n",
    "\n",
    "joblib.dump(discriminator_loss,LOSS_DIR+'discriminator_loss_ep250_mnist.pkl')\n",
    "joblib.dump(generator_loss,LOSS_DIR+'generator_loss_ep250_mnist.pkl')\n",
    "joblib.dump(CS_loss,LOSS_DIR+'CS_loss_ep250_mnist.pkl')"
   ]
  },
  {
   "cell_type": "code",
   "execution_count": 0,
   "metadata": {
    "colab": {},
    "colab_type": "code",
    "id": "lvABu3hnDh4k"
   },
   "outputs": [],
   "source": []
  }
 ],
 "metadata": {
  "accelerator": "GPU",
  "colab": {
   "collapsed_sections": [],
   "name": "GC2AE-CrammerSinger-FM.ipynb",
   "provenance": [
    {
     "file_id": "1nK69QaEmeXoxZ4dGvX0QeUSXGa7WLTuc",
     "timestamp": 1588790407206
    }
   ]
  },
  "kernelspec": {
   "display_name": "Python 3",
   "language": "python",
   "name": "python3"
  },
  "language_info": {
   "codemirror_mode": {
    "name": "ipython",
    "version": 3
   },
   "file_extension": ".py",
   "mimetype": "text/x-python",
   "name": "python",
   "nbconvert_exporter": "python",
   "pygments_lexer": "ipython3",
   "version": "3.6.10"
  }
 },
 "nbformat": 4,
 "nbformat_minor": 1
}
